{
 "cells": [
  {
   "cell_type": "code",
   "execution_count": 1,
   "metadata": {},
   "outputs": [],
   "source": [
    "import pandas as pd\n",
    "from sklearn.metrics import precision_score, recall_score, accuracy_score, confusion_matrix\n",
    "import seaborn as sns\n",
    "import matplotlib.pyplot as plt"
   ]
  },
  {
   "cell_type": "code",
   "execution_count": 2,
   "metadata": {},
   "outputs": [],
   "source": [
    "df = pd.read_csv('final_inference.csv')"
   ]
  },
  {
   "cell_type": "code",
   "execution_count": 3,
   "metadata": {},
   "outputs": [
    {
     "data": {
      "text/html": [
       "<div>\n",
       "<style scoped>\n",
       "    .dataframe tbody tr th:only-of-type {\n",
       "        vertical-align: middle;\n",
       "    }\n",
       "\n",
       "    .dataframe tbody tr th {\n",
       "        vertical-align: top;\n",
       "    }\n",
       "\n",
       "    .dataframe thead th {\n",
       "        text-align: right;\n",
       "    }\n",
       "</style>\n",
       "<table border=\"1\" class=\"dataframe\">\n",
       "  <thead>\n",
       "    <tr style=\"text-align: right;\">\n",
       "      <th></th>\n",
       "      <th>path</th>\n",
       "      <th>real</th>\n",
       "      <th>0</th>\n",
       "      <th>1</th>\n",
       "      <th>2</th>\n",
       "      <th>3</th>\n",
       "      <th>4</th>\n",
       "    </tr>\n",
       "  </thead>\n",
       "  <tbody>\n",
       "    <tr>\n",
       "      <th>0</th>\n",
       "      <td>../input/drunstratified/content/non_stratified...</td>\n",
       "      <td>0</td>\n",
       "      <td>37.06</td>\n",
       "      <td>38.11</td>\n",
       "      <td>21.89</td>\n",
       "      <td>2.94</td>\n",
       "      <td>0.00</td>\n",
       "    </tr>\n",
       "    <tr>\n",
       "      <th>1</th>\n",
       "      <td>../input/drunstratified/content/non_stratified...</td>\n",
       "      <td>0</td>\n",
       "      <td>43.60</td>\n",
       "      <td>27.91</td>\n",
       "      <td>22.77</td>\n",
       "      <td>5.72</td>\n",
       "      <td>0.00</td>\n",
       "    </tr>\n",
       "    <tr>\n",
       "      <th>2</th>\n",
       "      <td>../input/drunstratified/content/non_stratified...</td>\n",
       "      <td>0</td>\n",
       "      <td>46.30</td>\n",
       "      <td>29.55</td>\n",
       "      <td>22.92</td>\n",
       "      <td>1.23</td>\n",
       "      <td>0.00</td>\n",
       "    </tr>\n",
       "    <tr>\n",
       "      <th>3</th>\n",
       "      <td>../input/drunstratified/content/non_stratified...</td>\n",
       "      <td>0</td>\n",
       "      <td>50.46</td>\n",
       "      <td>26.26</td>\n",
       "      <td>20.61</td>\n",
       "      <td>2.67</td>\n",
       "      <td>0.00</td>\n",
       "    </tr>\n",
       "    <tr>\n",
       "      <th>4</th>\n",
       "      <td>../input/drunstratified/content/non_stratified...</td>\n",
       "      <td>0</td>\n",
       "      <td>42.10</td>\n",
       "      <td>30.81</td>\n",
       "      <td>16.89</td>\n",
       "      <td>0.00</td>\n",
       "      <td>10.19</td>\n",
       "    </tr>\n",
       "  </tbody>\n",
       "</table>\n",
       "</div>"
      ],
      "text/plain": [
       "                                                path  real      0      1  \\\n",
       "0  ../input/drunstratified/content/non_stratified...     0  37.06  38.11   \n",
       "1  ../input/drunstratified/content/non_stratified...     0  43.60  27.91   \n",
       "2  ../input/drunstratified/content/non_stratified...     0  46.30  29.55   \n",
       "3  ../input/drunstratified/content/non_stratified...     0  50.46  26.26   \n",
       "4  ../input/drunstratified/content/non_stratified...     0  42.10  30.81   \n",
       "\n",
       "       2     3      4  \n",
       "0  21.89  2.94   0.00  \n",
       "1  22.77  5.72   0.00  \n",
       "2  22.92  1.23   0.00  \n",
       "3  20.61  2.67   0.00  \n",
       "4  16.89  0.00  10.19  "
      ]
     },
     "execution_count": 3,
     "metadata": {},
     "output_type": "execute_result"
    }
   ],
   "source": [
    "df.head()"
   ]
  },
  {
   "cell_type": "code",
   "execution_count": 4,
   "metadata": {},
   "outputs": [],
   "source": [
    "df['predicted'] = df.iloc[:, 2:].idxmax(axis=1)"
   ]
  },
  {
   "cell_type": "code",
   "execution_count": 5,
   "metadata": {},
   "outputs": [],
   "source": [
    "df['predicted'] = pd.to_numeric(df.predicted)"
   ]
  },
  {
   "cell_type": "code",
   "execution_count": 6,
   "metadata": {},
   "outputs": [
    {
     "data": {
      "text/plain": [
       "0.7646710891382111"
      ]
     },
     "execution_count": 6,
     "metadata": {},
     "output_type": "execute_result"
    }
   ],
   "source": [
    "precision_score(df.real, df.predicted,  average='macro')"
   ]
  },
  {
   "cell_type": "code",
   "execution_count": 7,
   "metadata": {},
   "outputs": [
    {
     "data": {
      "text/plain": [
       "0.6689623696269592"
      ]
     },
     "execution_count": 7,
     "metadata": {},
     "output_type": "execute_result"
    }
   ],
   "source": [
    "recall_score(df.real, df.predicted,  average='macro')"
   ]
  },
  {
   "cell_type": "code",
   "execution_count": 8,
   "metadata": {},
   "outputs": [
    {
     "data": {
      "text/plain": [
       "0.8729965182388458"
      ]
     },
     "execution_count": 8,
     "metadata": {},
     "output_type": "execute_result"
    }
   ],
   "source": [
    "accuracy_score(df.real, df.predicted)"
   ]
  },
  {
   "cell_type": "code",
   "execution_count": 9,
   "metadata": {},
   "outputs": [
    {
     "data": {
      "text/plain": [
       "array([[48623,  1161,   519,     8,    26],\n",
       "       [ 2661,  2094,   282,     5,     9],\n",
       "       [ 2053,   525,  6918,   225,   102],\n",
       "       [   53,    20,   539,   915,    34],\n",
       "       [   79,     9,   199,   136,   874]])"
      ]
     },
     "execution_count": 9,
     "metadata": {},
     "output_type": "execute_result"
    }
   ],
   "source": [
    "confusion_matrix(df.real, df.predicted)"
   ]
  },
  {
   "cell_type": "code",
   "execution_count": 12,
   "metadata": {},
   "outputs": [
    {
     "data": {
      "text/plain": [
       "<AxesSubplot:>"
      ]
     },
     "execution_count": 12,
     "metadata": {},
     "output_type": "execute_result"
    },
    {
     "data": {
      "image/png": "[encoded data removed]",
      "text/plain": [
       "<Figure size 720x504 with 2 Axes>"
      ]
     },
     "metadata": {
      "needs_background": "light"
     },
     "output_type": "display_data"
    }
   ],
   "source": [
    "df_cm = pd.DataFrame(confusion_matrix(df.real, df.predicted), index = [i for i in \"01234\"],\n",
    "                  columns = [i for i in \"01234\"])\n",
    "plt.figure(figsize = (10,7))\n",
    "sns.heatmap(df_cm, annot=True,  fmt='g')"
   ]
  },
  {
   "cell_type": "markdown",
   "metadata": {},
   "source": [
    "### Problems:\n",
    "\n",
    "1. More than 50% of Grade 1 is being predicted as Grade 0\n",
    "2. A significant Grade 2 is being predicted as Grade 0\n",
    "3. Check images from Grade 0 being predicted as Grade 4\n",
    "4. Check images from Grade 4 being predicted as Grade 0"
   ]
  }
 ],
 "metadata": {
  "kernelspec": {
   "display_name": "Python 3",
   "language": "python",
   "name": "python3"
  },
  "language_info": {
   "codemirror_mode": {
    "name": "ipython",
    "version": 3
   },
   "file_extension": ".py",
   "mimetype": "text/x-python",
   "name": "python",
   "nbconvert_exporter": "python",
   "pygments_lexer": "ipython3",
   "version": "3.8.5"
  }
 },
 "nbformat": 4,
 "nbformat_minor": 4
}
