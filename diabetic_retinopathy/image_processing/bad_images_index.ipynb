{
  "nbformat": 4,
  "nbformat_minor": 0,
  "metadata": {
    "colab": {
      "name": "bad images.ipynb",
      "provenance": [],
      "collapsed_sections": []
    },
    "kernelspec": {
      "display_name": "Python 3",
      "name": "python3"
    },
    "language_info": {
      "name": "python"
    }
  },
  "cells": [
    {
      "cell_type": "code",
      "metadata": {
        "id": "SQCVDA8a-3Sb"
      },
      "source": [
        "import os\n",
        "from PIL import Image\n",
        "import cv2\n",
        "from google.colab.patches import cv2_imshow\n",
        "import imageio\n",
        "import numpy as np\n",
        "import pandas as pd\n",
        "from os import listdir\n",
        "from os.path import isfile, join"
      ],
      "execution_count": null,
      "outputs": []
    },
    {
      "cell_type": "code",
      "metadata": {
        "id": "fidiRJPZX-W8"
      },
      "source": [
        "# from google.colab import drive\n",
        "# drive.mount('/content/drive')"
      ],
      "execution_count": null,
      "outputs": []
    },
    {
      "cell_type": "code",
      "metadata": {
        "id": "js5FofDhAZNN"
      },
      "source": [
        "def variance_of_laplacian(image):\n",
        "\t# compute the Laplacian of the image and then return the focus\n",
        "\t# measure, which is simply the variance of the Laplacian\n",
        "\treturn cv2.Laplacian(image, cv2.CV_64F).var()"
      ],
      "execution_count": null,
      "outputs": []
    },
    {
      "cell_type": "code",
      "metadata": {
        "id": "gMwvtSlm_BW-"
      },
      "source": [
        "def blurry_level_image(path):\n",
        "  try:\n",
        "    image = cv2.imread(path)\n",
        "    gray = cv2.cvtColor(image, cv2.COLOR_BGR2GRAY)\n",
        "    fm = variance_of_laplacian(gray)\n",
        "    return round(fm)\n",
        "  except:\n",
        "    return -1"
      ],
      "execution_count": 37,
      "outputs": []
    },
    {
      "cell_type": "code",
      "metadata": {
        "colab": {
          "base_uri": "https://localhost:8080/"
        },
        "id": "KmgRdWleAaYN",
        "outputId": "563b96cc-0e9a-4906-892b-00ce1d8b870c"
      },
      "source": [
        "blurry_level_image('/content/drive/MyDrive/datasets/train/0/04aef84a2cc1.jpg')"
      ],
      "execution_count": null,
      "outputs": [
        {
          "output_type": "execute_result",
          "data": {
            "text/plain": [
              "48"
            ]
          },
          "metadata": {
            "tags": []
          },
          "execution_count": 21
        }
      ]
    },
    {
      "cell_type": "code",
      "metadata": {
        "colab": {
          "base_uri": "https://localhost:8080/"
        },
        "id": "HqlIAbpRY-to",
        "outputId": "5263e2dc-a15a-4a11-cadc-673c3d8ec197"
      },
      "source": [
        "blurry_level_image('/content/drive/MyDrive/datasets/train/4/10685_right.jpg')"
      ],
      "execution_count": null,
      "outputs": [
        {
          "output_type": "execute_result",
          "data": {
            "text/plain": [
              "65"
            ]
          },
          "metadata": {
            "tags": []
          },
          "execution_count": 22
        }
      ]
    },
    {
      "cell_type": "code",
      "metadata": {
        "colab": {
          "base_uri": "https://localhost:8080/"
        },
        "id": "QPAtAfN7ZOf6",
        "outputId": "c94439d3-8346-40f7-a039-bbe247f6095c"
      },
      "source": [
        "blurry_level_image('/content/drive/MyDrive/datasets/train/4/13166_right.jpg')"
      ],
      "execution_count": null,
      "outputs": [
        {
          "output_type": "execute_result",
          "data": {
            "text/plain": [
              "131"
            ]
          },
          "metadata": {
            "tags": []
          },
          "execution_count": 23
        }
      ]
    },
    {
      "cell_type": "code",
      "metadata": {
        "id": "eMvFjpU-ZYnV"
      },
      "source": [
        "## dark images"
      ],
      "execution_count": null,
      "outputs": []
    },
    {
      "cell_type": "code",
      "metadata": {
        "id": "KQH96SfuhfyB"
      },
      "source": [
        "def img_darkness(path):\n",
        "  try:\n",
        "    img = imageio.imread(path, as_gray=True)\n",
        "    return  round(np.mean(img))\n",
        "  except:\n",
        "    return -1"
      ],
      "execution_count": null,
      "outputs": []
    },
    {
      "cell_type": "code",
      "metadata": {
        "colab": {
          "base_uri": "https://localhost:8080/"
        },
        "id": "Ue405Upshrs-",
        "outputId": "fafa3349-bef4-4ebc-ebde-ea7cea6ce370"
      },
      "source": [
        "img_darkness('/content/drive/MyDrive/datasets/train/4/10685_right.jpg')"
      ],
      "execution_count": null,
      "outputs": [
        {
          "output_type": "execute_result",
          "data": {
            "text/plain": [
              "72"
            ]
          },
          "metadata": {
            "tags": []
          },
          "execution_count": 26
        }
      ]
    },
    {
      "cell_type": "code",
      "metadata": {
        "id": "VLvCjW6hkYqe"
      },
      "source": [
        "test_path = '/content/drive/MyDrive/datasets/val/0/'\n",
        "onlyfiles = [f for f in listdir(test_path) if isfile(join(test_path, f))]"
      ],
      "execution_count": null,
      "outputs": []
    },
    {
      "cell_type": "code",
      "metadata": {
        "id": "ixpz7leG5m37"
      },
      "source": [
        "df = pd.DataFrame(onlyfiles, columns=['file'])"
      ],
      "execution_count": null,
      "outputs": []
    },
    {
      "cell_type": "code",
      "metadata": {
        "id": "xwREdTz2_rGD"
      },
      "source": [
        "base_path = \"/content/drive/MyDrive/datasets/\"\n",
        "images = ['train', 'val']\n",
        "df = pd.DataFrame(columns = ['image', 'train_val', 'diagnosis'])\n",
        "for i in range(0,5):\n",
        "  for fol in images:\n",
        "    path = base_path+str(fol)+'/'+str(i)+'/'\n",
        "    temp = pd.DataFrame(listdir(path), columns = ['image'])\n",
        "    temp['train_val'] = fol\n",
        "    temp['diagnosis'] = i\n",
        "    df = df.append(temp)"
      ],
      "execution_count": null,
      "outputs": []
    },
    {
      "cell_type": "code",
      "metadata": {
        "colab": {
          "base_uri": "https://localhost:8080/",
          "height": 419
        },
        "id": "3xPNKopdNxfB",
        "outputId": "7f403616-2e40-489e-c120-8261000ad4f8"
      },
      "source": [
        "df"
      ],
      "execution_count": null,
      "outputs": [
        {
          "output_type": "execute_result",
          "data": {
            "text/html": [
              "<div>\n",
              "<style scoped>\n",
              "    .dataframe tbody tr th:only-of-type {\n",
              "        vertical-align: middle;\n",
              "    }\n",
              "\n",
              "    .dataframe tbody tr th {\n",
              "        vertical-align: top;\n",
              "    }\n",
              "\n",
              "    .dataframe thead th {\n",
              "        text-align: right;\n",
              "    }\n",
              "</style>\n",
              "<table border=\"1\" class=\"dataframe\">\n",
              "  <thead>\n",
              "    <tr style=\"text-align: right;\">\n",
              "      <th></th>\n",
              "      <th>image</th>\n",
              "      <th>train_val</th>\n",
              "      <th>diagnosis</th>\n",
              "    </tr>\n",
              "  </thead>\n",
              "  <tbody>\n",
              "    <tr>\n",
              "      <th>0</th>\n",
              "      <td>21542_left.jpg</td>\n",
              "      <td>train</td>\n",
              "      <td>0</td>\n",
              "    </tr>\n",
              "    <tr>\n",
              "      <th>1</th>\n",
              "      <td>25969_left.jpg</td>\n",
              "      <td>train</td>\n",
              "      <td>0</td>\n",
              "    </tr>\n",
              "    <tr>\n",
              "      <th>2</th>\n",
              "      <td>10163_left.jpg</td>\n",
              "      <td>train</td>\n",
              "      <td>0</td>\n",
              "    </tr>\n",
              "    <tr>\n",
              "      <th>3</th>\n",
              "      <td>29646_left.jpg</td>\n",
              "      <td>train</td>\n",
              "      <td>0</td>\n",
              "    </tr>\n",
              "    <tr>\n",
              "      <th>4</th>\n",
              "      <td>836_right.jpg</td>\n",
              "      <td>train</td>\n",
              "      <td>0</td>\n",
              "    </tr>\n",
              "    <tr>\n",
              "      <th>...</th>\n",
              "      <td>...</td>\n",
              "      <td>...</td>\n",
              "      <td>...</td>\n",
              "    </tr>\n",
              "    <tr>\n",
              "      <th>437</th>\n",
              "      <td>37973_right.jpg</td>\n",
              "      <td>val</td>\n",
              "      <td>4</td>\n",
              "    </tr>\n",
              "    <tr>\n",
              "      <th>438</th>\n",
              "      <td>43384_left.jpg</td>\n",
              "      <td>val</td>\n",
              "      <td>4</td>\n",
              "    </tr>\n",
              "    <tr>\n",
              "      <th>439</th>\n",
              "      <td>16422_left.jpg</td>\n",
              "      <td>val</td>\n",
              "      <td>4</td>\n",
              "    </tr>\n",
              "    <tr>\n",
              "      <th>440</th>\n",
              "      <td>44247_right.jpg</td>\n",
              "      <td>val</td>\n",
              "      <td>4</td>\n",
              "    </tr>\n",
              "    <tr>\n",
              "      <th>441</th>\n",
              "      <td>6876_left.jpg</td>\n",
              "      <td>val</td>\n",
              "      <td>4</td>\n",
              "    </tr>\n",
              "  </tbody>\n",
              "</table>\n",
              "<p>11046 rows × 3 columns</p>\n",
              "</div>"
            ],
            "text/plain": [
              "               image train_val diagnosis\n",
              "0     21542_left.jpg     train         0\n",
              "1     25969_left.jpg     train         0\n",
              "2     10163_left.jpg     train         0\n",
              "3     29646_left.jpg     train         0\n",
              "4      836_right.jpg     train         0\n",
              "..               ...       ...       ...\n",
              "437  37973_right.jpg       val         4\n",
              "438   43384_left.jpg       val         4\n",
              "439   16422_left.jpg       val         4\n",
              "440  44247_right.jpg       val         4\n",
              "441    6876_left.jpg       val         4\n",
              "\n",
              "[11046 rows x 3 columns]"
            ]
          },
          "metadata": {
            "tags": []
          },
          "execution_count": 30
        }
      ]
    },
    {
      "cell_type": "code",
      "metadata": {
        "id": "rCkotzD1Bt6G"
      },
      "source": [
        "df['path'] =  base_path+df['train_val']+'/'+df['diagnosis'].map(str)+'/'+df['image']"
      ],
      "execution_count": null,
      "outputs": []
    },
    {
      "cell_type": "code",
      "metadata": {
        "colab": {
          "base_uri": "https://localhost:8080/",
          "height": 419
        },
        "id": "0GLvT5ecD1da",
        "outputId": "a1675643-73b0-4f6f-c3b8-0010ec218e02"
      },
      "source": [
        "df"
      ],
      "execution_count": null,
      "outputs": [
        {
          "output_type": "execute_result",
          "data": {
            "text/html": [
              "<div>\n",
              "<style scoped>\n",
              "    .dataframe tbody tr th:only-of-type {\n",
              "        vertical-align: middle;\n",
              "    }\n",
              "\n",
              "    .dataframe tbody tr th {\n",
              "        vertical-align: top;\n",
              "    }\n",
              "\n",
              "    .dataframe thead th {\n",
              "        text-align: right;\n",
              "    }\n",
              "</style>\n",
              "<table border=\"1\" class=\"dataframe\">\n",
              "  <thead>\n",
              "    <tr style=\"text-align: right;\">\n",
              "      <th></th>\n",
              "      <th>image</th>\n",
              "      <th>train_val</th>\n",
              "      <th>diagnosis</th>\n",
              "      <th>path</th>\n",
              "    </tr>\n",
              "  </thead>\n",
              "  <tbody>\n",
              "    <tr>\n",
              "      <th>0</th>\n",
              "      <td>21542_left.jpg</td>\n",
              "      <td>train</td>\n",
              "      <td>0</td>\n",
              "      <td>/content/drive/MyDrive/datasets/train/0/21542_...</td>\n",
              "    </tr>\n",
              "    <tr>\n",
              "      <th>1</th>\n",
              "      <td>25969_left.jpg</td>\n",
              "      <td>train</td>\n",
              "      <td>0</td>\n",
              "      <td>/content/drive/MyDrive/datasets/train/0/25969_...</td>\n",
              "    </tr>\n",
              "    <tr>\n",
              "      <th>2</th>\n",
              "      <td>10163_left.jpg</td>\n",
              "      <td>train</td>\n",
              "      <td>0</td>\n",
              "      <td>/content/drive/MyDrive/datasets/train/0/10163_...</td>\n",
              "    </tr>\n",
              "    <tr>\n",
              "      <th>3</th>\n",
              "      <td>29646_left.jpg</td>\n",
              "      <td>train</td>\n",
              "      <td>0</td>\n",
              "      <td>/content/drive/MyDrive/datasets/train/0/29646_...</td>\n",
              "    </tr>\n",
              "    <tr>\n",
              "      <th>4</th>\n",
              "      <td>836_right.jpg</td>\n",
              "      <td>train</td>\n",
              "      <td>0</td>\n",
              "      <td>/content/drive/MyDrive/datasets/train/0/836_ri...</td>\n",
              "    </tr>\n",
              "    <tr>\n",
              "      <th>...</th>\n",
              "      <td>...</td>\n",
              "      <td>...</td>\n",
              "      <td>...</td>\n",
              "      <td>...</td>\n",
              "    </tr>\n",
              "    <tr>\n",
              "      <th>437</th>\n",
              "      <td>37973_right.jpg</td>\n",
              "      <td>val</td>\n",
              "      <td>4</td>\n",
              "      <td>/content/drive/MyDrive/datasets/val/4/37973_ri...</td>\n",
              "    </tr>\n",
              "    <tr>\n",
              "      <th>438</th>\n",
              "      <td>43384_left.jpg</td>\n",
              "      <td>val</td>\n",
              "      <td>4</td>\n",
              "      <td>/content/drive/MyDrive/datasets/val/4/43384_le...</td>\n",
              "    </tr>\n",
              "    <tr>\n",
              "      <th>439</th>\n",
              "      <td>16422_left.jpg</td>\n",
              "      <td>val</td>\n",
              "      <td>4</td>\n",
              "      <td>/content/drive/MyDrive/datasets/val/4/16422_le...</td>\n",
              "    </tr>\n",
              "    <tr>\n",
              "      <th>440</th>\n",
              "      <td>44247_right.jpg</td>\n",
              "      <td>val</td>\n",
              "      <td>4</td>\n",
              "      <td>/content/drive/MyDrive/datasets/val/4/44247_ri...</td>\n",
              "    </tr>\n",
              "    <tr>\n",
              "      <th>441</th>\n",
              "      <td>6876_left.jpg</td>\n",
              "      <td>val</td>\n",
              "      <td>4</td>\n",
              "      <td>/content/drive/MyDrive/datasets/val/4/6876_lef...</td>\n",
              "    </tr>\n",
              "  </tbody>\n",
              "</table>\n",
              "<p>11046 rows × 4 columns</p>\n",
              "</div>"
            ],
            "text/plain": [
              "               image  ...                                               path\n",
              "0     21542_left.jpg  ...  /content/drive/MyDrive/datasets/train/0/21542_...\n",
              "1     25969_left.jpg  ...  /content/drive/MyDrive/datasets/train/0/25969_...\n",
              "2     10163_left.jpg  ...  /content/drive/MyDrive/datasets/train/0/10163_...\n",
              "3     29646_left.jpg  ...  /content/drive/MyDrive/datasets/train/0/29646_...\n",
              "4      836_right.jpg  ...  /content/drive/MyDrive/datasets/train/0/836_ri...\n",
              "..               ...  ...                                                ...\n",
              "437  37973_right.jpg  ...  /content/drive/MyDrive/datasets/val/4/37973_ri...\n",
              "438   43384_left.jpg  ...  /content/drive/MyDrive/datasets/val/4/43384_le...\n",
              "439   16422_left.jpg  ...  /content/drive/MyDrive/datasets/val/4/16422_le...\n",
              "440  44247_right.jpg  ...  /content/drive/MyDrive/datasets/val/4/44247_ri...\n",
              "441    6876_left.jpg  ...  /content/drive/MyDrive/datasets/val/4/6876_lef...\n",
              "\n",
              "[11046 rows x 4 columns]"
            ]
          },
          "metadata": {
            "tags": []
          },
          "execution_count": 32
        }
      ]
    },
    {
      "cell_type": "code",
      "metadata": {
        "colab": {
          "background_save": true
        },
        "id": "Gja6ZTihGUXO"
      },
      "source": [
        "df['darkness'] = df.path.apply(img_darkness)"
      ],
      "execution_count": null,
      "outputs": []
    },
    {
      "cell_type": "code",
      "metadata": {
        "colab": {
          "base_uri": "https://localhost:8080/",
          "height": 419
        },
        "id": "rUaeCB8niKWP",
        "outputId": "0b1bc8c5-acc7-4757-9e47-e0354d5f4bc7"
      },
      "source": [
        "df"
      ],
      "execution_count": 35,
      "outputs": [
        {
          "output_type": "execute_result",
          "data": {
            "text/html": [
              "<div>\n",
              "<style scoped>\n",
              "    .dataframe tbody tr th:only-of-type {\n",
              "        vertical-align: middle;\n",
              "    }\n",
              "\n",
              "    .dataframe tbody tr th {\n",
              "        vertical-align: top;\n",
              "    }\n",
              "\n",
              "    .dataframe thead th {\n",
              "        text-align: right;\n",
              "    }\n",
              "</style>\n",
              "<table border=\"1\" class=\"dataframe\">\n",
              "  <thead>\n",
              "    <tr style=\"text-align: right;\">\n",
              "      <th></th>\n",
              "      <th>image</th>\n",
              "      <th>train_val</th>\n",
              "      <th>diagnosis</th>\n",
              "      <th>path</th>\n",
              "      <th>darkness</th>\n",
              "    </tr>\n",
              "  </thead>\n",
              "  <tbody>\n",
              "    <tr>\n",
              "      <th>0</th>\n",
              "      <td>21542_left.jpg</td>\n",
              "      <td>train</td>\n",
              "      <td>0</td>\n",
              "      <td>/content/drive/MyDrive/datasets/train/0/21542_...</td>\n",
              "      <td>75</td>\n",
              "    </tr>\n",
              "    <tr>\n",
              "      <th>1</th>\n",
              "      <td>25969_left.jpg</td>\n",
              "      <td>train</td>\n",
              "      <td>0</td>\n",
              "      <td>/content/drive/MyDrive/datasets/train/0/25969_...</td>\n",
              "      <td>27</td>\n",
              "    </tr>\n",
              "    <tr>\n",
              "      <th>2</th>\n",
              "      <td>10163_left.jpg</td>\n",
              "      <td>train</td>\n",
              "      <td>0</td>\n",
              "      <td>/content/drive/MyDrive/datasets/train/0/10163_...</td>\n",
              "      <td>55</td>\n",
              "    </tr>\n",
              "    <tr>\n",
              "      <th>3</th>\n",
              "      <td>29646_left.jpg</td>\n",
              "      <td>train</td>\n",
              "      <td>0</td>\n",
              "      <td>/content/drive/MyDrive/datasets/train/0/29646_...</td>\n",
              "      <td>121</td>\n",
              "    </tr>\n",
              "    <tr>\n",
              "      <th>4</th>\n",
              "      <td>836_right.jpg</td>\n",
              "      <td>train</td>\n",
              "      <td>0</td>\n",
              "      <td>/content/drive/MyDrive/datasets/train/0/836_ri...</td>\n",
              "      <td>75</td>\n",
              "    </tr>\n",
              "    <tr>\n",
              "      <th>...</th>\n",
              "      <td>...</td>\n",
              "      <td>...</td>\n",
              "      <td>...</td>\n",
              "      <td>...</td>\n",
              "      <td>...</td>\n",
              "    </tr>\n",
              "    <tr>\n",
              "      <th>437</th>\n",
              "      <td>37973_right.jpg</td>\n",
              "      <td>val</td>\n",
              "      <td>4</td>\n",
              "      <td>/content/drive/MyDrive/datasets/val/4/37973_ri...</td>\n",
              "      <td>110</td>\n",
              "    </tr>\n",
              "    <tr>\n",
              "      <th>438</th>\n",
              "      <td>43384_left.jpg</td>\n",
              "      <td>val</td>\n",
              "      <td>4</td>\n",
              "      <td>/content/drive/MyDrive/datasets/val/4/43384_le...</td>\n",
              "      <td>60</td>\n",
              "    </tr>\n",
              "    <tr>\n",
              "      <th>439</th>\n",
              "      <td>16422_left.jpg</td>\n",
              "      <td>val</td>\n",
              "      <td>4</td>\n",
              "      <td>/content/drive/MyDrive/datasets/val/4/16422_le...</td>\n",
              "      <td>68</td>\n",
              "    </tr>\n",
              "    <tr>\n",
              "      <th>440</th>\n",
              "      <td>44247_right.jpg</td>\n",
              "      <td>val</td>\n",
              "      <td>4</td>\n",
              "      <td>/content/drive/MyDrive/datasets/val/4/44247_ri...</td>\n",
              "      <td>34</td>\n",
              "    </tr>\n",
              "    <tr>\n",
              "      <th>441</th>\n",
              "      <td>6876_left.jpg</td>\n",
              "      <td>val</td>\n",
              "      <td>4</td>\n",
              "      <td>/content/drive/MyDrive/datasets/val/4/6876_lef...</td>\n",
              "      <td>86</td>\n",
              "    </tr>\n",
              "  </tbody>\n",
              "</table>\n",
              "<p>11046 rows × 5 columns</p>\n",
              "</div>"
            ],
            "text/plain": [
              "               image  ... darkness\n",
              "0     21542_left.jpg  ...       75\n",
              "1     25969_left.jpg  ...       27\n",
              "2     10163_left.jpg  ...       55\n",
              "3     29646_left.jpg  ...      121\n",
              "4      836_right.jpg  ...       75\n",
              "..               ...  ...      ...\n",
              "437  37973_right.jpg  ...      110\n",
              "438   43384_left.jpg  ...       60\n",
              "439   16422_left.jpg  ...       68\n",
              "440  44247_right.jpg  ...       34\n",
              "441    6876_left.jpg  ...       86\n",
              "\n",
              "[11046 rows x 5 columns]"
            ]
          },
          "metadata": {
            "tags": []
          },
          "execution_count": 35
        }
      ]
    },
    {
      "cell_type": "code",
      "metadata": {
        "id": "KOP_LwX_HZ8-"
      },
      "source": [
        "df['blurry'] = df.path.apply(blurry_level_image)"
      ],
      "execution_count": 38,
      "outputs": []
    },
    {
      "cell_type": "code",
      "metadata": {
        "id": "31awcs0zHk4O"
      },
      "source": [
        "df.to_csv('blurry_darkness.csv', index=False)"
      ],
      "execution_count": 40,
      "outputs": []
    },
    {
      "cell_type": "code",
      "metadata": {
        "colab": {
          "base_uri": "https://localhost:8080/",
          "height": 419
        },
        "id": "WMTHi1P8HrJ_",
        "outputId": "aff7ef1d-2cb3-4564-ceaa-cd0b158e2292"
      },
      "source": [
        "df"
      ],
      "execution_count": 39,
      "outputs": [
        {
          "output_type": "execute_result",
          "data": {
            "text/html": [
              "<div>\n",
              "<style scoped>\n",
              "    .dataframe tbody tr th:only-of-type {\n",
              "        vertical-align: middle;\n",
              "    }\n",
              "\n",
              "    .dataframe tbody tr th {\n",
              "        vertical-align: top;\n",
              "    }\n",
              "\n",
              "    .dataframe thead th {\n",
              "        text-align: right;\n",
              "    }\n",
              "</style>\n",
              "<table border=\"1\" class=\"dataframe\">\n",
              "  <thead>\n",
              "    <tr style=\"text-align: right;\">\n",
              "      <th></th>\n",
              "      <th>image</th>\n",
              "      <th>train_val</th>\n",
              "      <th>diagnosis</th>\n",
              "      <th>path</th>\n",
              "      <th>darkness</th>\n",
              "      <th>blurry</th>\n",
              "    </tr>\n",
              "  </thead>\n",
              "  <tbody>\n",
              "    <tr>\n",
              "      <th>0</th>\n",
              "      <td>21542_left.jpg</td>\n",
              "      <td>train</td>\n",
              "      <td>0</td>\n",
              "      <td>/content/drive/MyDrive/datasets/train/0/21542_...</td>\n",
              "      <td>75</td>\n",
              "      <td>101</td>\n",
              "    </tr>\n",
              "    <tr>\n",
              "      <th>1</th>\n",
              "      <td>25969_left.jpg</td>\n",
              "      <td>train</td>\n",
              "      <td>0</td>\n",
              "      <td>/content/drive/MyDrive/datasets/train/0/25969_...</td>\n",
              "      <td>27</td>\n",
              "      <td>41</td>\n",
              "    </tr>\n",
              "    <tr>\n",
              "      <th>2</th>\n",
              "      <td>10163_left.jpg</td>\n",
              "      <td>train</td>\n",
              "      <td>0</td>\n",
              "      <td>/content/drive/MyDrive/datasets/train/0/10163_...</td>\n",
              "      <td>55</td>\n",
              "      <td>86</td>\n",
              "    </tr>\n",
              "    <tr>\n",
              "      <th>3</th>\n",
              "      <td>29646_left.jpg</td>\n",
              "      <td>train</td>\n",
              "      <td>0</td>\n",
              "      <td>/content/drive/MyDrive/datasets/train/0/29646_...</td>\n",
              "      <td>121</td>\n",
              "      <td>18</td>\n",
              "    </tr>\n",
              "    <tr>\n",
              "      <th>4</th>\n",
              "      <td>836_right.jpg</td>\n",
              "      <td>train</td>\n",
              "      <td>0</td>\n",
              "      <td>/content/drive/MyDrive/datasets/train/0/836_ri...</td>\n",
              "      <td>75</td>\n",
              "      <td>145</td>\n",
              "    </tr>\n",
              "    <tr>\n",
              "      <th>...</th>\n",
              "      <td>...</td>\n",
              "      <td>...</td>\n",
              "      <td>...</td>\n",
              "      <td>...</td>\n",
              "      <td>...</td>\n",
              "      <td>...</td>\n",
              "    </tr>\n",
              "    <tr>\n",
              "      <th>437</th>\n",
              "      <td>37973_right.jpg</td>\n",
              "      <td>val</td>\n",
              "      <td>4</td>\n",
              "      <td>/content/drive/MyDrive/datasets/val/4/37973_ri...</td>\n",
              "      <td>110</td>\n",
              "      <td>160</td>\n",
              "    </tr>\n",
              "    <tr>\n",
              "      <th>438</th>\n",
              "      <td>43384_left.jpg</td>\n",
              "      <td>val</td>\n",
              "      <td>4</td>\n",
              "      <td>/content/drive/MyDrive/datasets/val/4/43384_le...</td>\n",
              "      <td>60</td>\n",
              "      <td>142</td>\n",
              "    </tr>\n",
              "    <tr>\n",
              "      <th>439</th>\n",
              "      <td>16422_left.jpg</td>\n",
              "      <td>val</td>\n",
              "      <td>4</td>\n",
              "      <td>/content/drive/MyDrive/datasets/val/4/16422_le...</td>\n",
              "      <td>68</td>\n",
              "      <td>120</td>\n",
              "    </tr>\n",
              "    <tr>\n",
              "      <th>440</th>\n",
              "      <td>44247_right.jpg</td>\n",
              "      <td>val</td>\n",
              "      <td>4</td>\n",
              "      <td>/content/drive/MyDrive/datasets/val/4/44247_ri...</td>\n",
              "      <td>34</td>\n",
              "      <td>44</td>\n",
              "    </tr>\n",
              "    <tr>\n",
              "      <th>441</th>\n",
              "      <td>6876_left.jpg</td>\n",
              "      <td>val</td>\n",
              "      <td>4</td>\n",
              "      <td>/content/drive/MyDrive/datasets/val/4/6876_lef...</td>\n",
              "      <td>86</td>\n",
              "      <td>134</td>\n",
              "    </tr>\n",
              "  </tbody>\n",
              "</table>\n",
              "<p>11046 rows × 6 columns</p>\n",
              "</div>"
            ],
            "text/plain": [
              "               image train_val  ... darkness blurry\n",
              "0     21542_left.jpg     train  ...       75    101\n",
              "1     25969_left.jpg     train  ...       27     41\n",
              "2     10163_left.jpg     train  ...       55     86\n",
              "3     29646_left.jpg     train  ...      121     18\n",
              "4      836_right.jpg     train  ...       75    145\n",
              "..               ...       ...  ...      ...    ...\n",
              "437  37973_right.jpg       val  ...      110    160\n",
              "438   43384_left.jpg       val  ...       60    142\n",
              "439   16422_left.jpg       val  ...       68    120\n",
              "440  44247_right.jpg       val  ...       34     44\n",
              "441    6876_left.jpg       val  ...       86    134\n",
              "\n",
              "[11046 rows x 6 columns]"
            ]
          },
          "metadata": {
            "tags": []
          },
          "execution_count": 39
        }
      ]
    },
    {
      "cell_type": "code",
      "metadata": {
        "id": "w5nxwdbSkPUx"
      },
      "source": [
        ""
      ],
      "execution_count": null,
      "outputs": []
    }
  ]
}