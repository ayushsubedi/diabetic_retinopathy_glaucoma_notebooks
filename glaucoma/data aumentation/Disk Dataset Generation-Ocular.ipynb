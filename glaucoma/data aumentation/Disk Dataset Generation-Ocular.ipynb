{
 "cells": [
  {
   "cell_type": "code",
   "execution_count": 2,
   "metadata": {},
   "outputs": [],
   "source": [
    "from imutils import contours\n",
    "from skimage import measure\n",
    "import numpy as np\n",
    "import imutils\n",
    "import cv2\n",
    "import pandas as pd\n",
    "import glob\n",
    "import swifter\n",
    "\n",
    "import seaborn as sns\n",
    "import matplotlib.pyplot as plt\n",
    "from PIL import Image"
   ]
  },
  {
   "cell_type": "code",
   "execution_count": 4,
   "metadata": {},
   "outputs": [],
   "source": [
    "df = pd.read_csv('exceptions.csv')"
   ]
  },
  {
   "cell_type": "code",
   "execution_count": 5,
   "metadata": {},
   "outputs": [],
   "source": [
    "def get_folder(path):\n",
    "    return path.split('/')[-2]\n",
    "\n",
    "def get_file(path):\n",
    "    return path.split('/')[-1]"
   ]
  },
  {
   "cell_type": "code",
   "execution_count": 6,
   "metadata": {},
   "outputs": [
    {
     "data": {
      "application/vnd.jupyter.widget-view+json": {
       "model_id": "549ca650b15a419990d232bda6d5bcd7",
       "version_major": 2,
       "version_minor": 0
      },
      "text/plain": [
       "HBox(children=(HTML(value='Pandas Apply'), FloatProgress(value=0.0, max=3424.0), HTML(value='')))"
      ]
     },
     "metadata": {},
     "output_type": "display_data"
    },
    {
     "name": "stdout",
     "output_type": "stream",
     "text": [
      "\n"
     ]
    }
   ],
   "source": [
    "df['folder'] = df.path.swifter.progress_bar(True).apply(get_folder)"
   ]
  },
  {
   "cell_type": "code",
   "execution_count": 7,
   "metadata": {},
   "outputs": [
    {
     "data": {
      "application/vnd.jupyter.widget-view+json": {
       "model_id": "3a3a887baf2c45149c4678f3f63e684c",
       "version_major": 2,
       "version_minor": 0
      },
      "text/plain": [
       "HBox(children=(HTML(value='Pandas Apply'), FloatProgress(value=0.0, max=3424.0), HTML(value='')))"
      ]
     },
     "metadata": {},
     "output_type": "display_data"
    },
    {
     "name": "stdout",
     "output_type": "stream",
     "text": [
      "\n"
     ]
    }
   ],
   "source": [
    "df['file'] = df.path.swifter.progress_bar(True).apply(get_file)"
   ]
  },
  {
   "cell_type": "code",
   "execution_count": 8,
   "metadata": {},
   "outputs": [
    {
     "data": {
      "text/html": [
       "<div>\n",
       "<style scoped>\n",
       "    .dataframe tbody tr th:only-of-type {\n",
       "        vertical-align: middle;\n",
       "    }\n",
       "\n",
       "    .dataframe tbody tr th {\n",
       "        vertical-align: top;\n",
       "    }\n",
       "\n",
       "    .dataframe thead th {\n",
       "        text-align: right;\n",
       "    }\n",
       "</style>\n",
       "<table border=\"1\" class=\"dataframe\">\n",
       "  <thead>\n",
       "    <tr style=\"text-align: right;\">\n",
       "      <th></th>\n",
       "      <th>path</th>\n",
       "      <th>raises_exception</th>\n",
       "      <th>folder</th>\n",
       "      <th>file</th>\n",
       "    </tr>\n",
       "  </thead>\n",
       "  <tbody>\n",
       "    <tr>\n",
       "      <th>0</th>\n",
       "      <td>dataset/ocular/0/2342_left.jpg</td>\n",
       "      <td>NaN</td>\n",
       "      <td>0</td>\n",
       "      <td>2342_left.jpg</td>\n",
       "    </tr>\n",
       "    <tr>\n",
       "      <th>1</th>\n",
       "      <td>dataset/ocular/0/3407_right.jpg</td>\n",
       "      <td>NaN</td>\n",
       "      <td>0</td>\n",
       "      <td>3407_right.jpg</td>\n",
       "    </tr>\n",
       "    <tr>\n",
       "      <th>2</th>\n",
       "      <td>dataset/ocular/0/2343_left.jpg</td>\n",
       "      <td>NaN</td>\n",
       "      <td>0</td>\n",
       "      <td>2343_left.jpg</td>\n",
       "    </tr>\n",
       "    <tr>\n",
       "      <th>3</th>\n",
       "      <td>dataset/ocular/0/3294_right.jpg</td>\n",
       "      <td>NaN</td>\n",
       "      <td>0</td>\n",
       "      <td>3294_right.jpg</td>\n",
       "    </tr>\n",
       "    <tr>\n",
       "      <th>4</th>\n",
       "      <td>dataset/ocular/0/940_right.jpg</td>\n",
       "      <td>NaN</td>\n",
       "      <td>0</td>\n",
       "      <td>940_right.jpg</td>\n",
       "    </tr>\n",
       "    <tr>\n",
       "      <th>...</th>\n",
       "      <td>...</td>\n",
       "      <td>...</td>\n",
       "      <td>...</td>\n",
       "      <td>...</td>\n",
       "    </tr>\n",
       "    <tr>\n",
       "      <th>3419</th>\n",
       "      <td>dataset/ocular/1/1964_left.jpg</td>\n",
       "      <td>NaN</td>\n",
       "      <td>1</td>\n",
       "      <td>1964_left.jpg</td>\n",
       "    </tr>\n",
       "    <tr>\n",
       "      <th>3420</th>\n",
       "      <td>dataset/ocular/1/1265_right.jpg</td>\n",
       "      <td>NaN</td>\n",
       "      <td>1</td>\n",
       "      <td>1265_right.jpg</td>\n",
       "    </tr>\n",
       "    <tr>\n",
       "      <th>3421</th>\n",
       "      <td>dataset/ocular/1/1965_left.jpg</td>\n",
       "      <td>NaN</td>\n",
       "      <td>1</td>\n",
       "      <td>1965_left.jpg</td>\n",
       "    </tr>\n",
       "    <tr>\n",
       "      <th>3422</th>\n",
       "      <td>dataset/ocular/1/1503_right.jpg</td>\n",
       "      <td>NaN</td>\n",
       "      <td>1</td>\n",
       "      <td>1503_right.jpg</td>\n",
       "    </tr>\n",
       "    <tr>\n",
       "      <th>3423</th>\n",
       "      <td>dataset/ocular/1/1255_left.jpg</td>\n",
       "      <td>NaN</td>\n",
       "      <td>1</td>\n",
       "      <td>1255_left.jpg</td>\n",
       "    </tr>\n",
       "  </tbody>\n",
       "</table>\n",
       "<p>3424 rows × 4 columns</p>\n",
       "</div>"
      ],
      "text/plain": [
       "                                 path  raises_exception folder            file\n",
       "0      dataset/ocular/0/2342_left.jpg               NaN      0   2342_left.jpg\n",
       "1     dataset/ocular/0/3407_right.jpg               NaN      0  3407_right.jpg\n",
       "2      dataset/ocular/0/2343_left.jpg               NaN      0   2343_left.jpg\n",
       "3     dataset/ocular/0/3294_right.jpg               NaN      0  3294_right.jpg\n",
       "4      dataset/ocular/0/940_right.jpg               NaN      0   940_right.jpg\n",
       "...                               ...               ...    ...             ...\n",
       "3419   dataset/ocular/1/1964_left.jpg               NaN      1   1964_left.jpg\n",
       "3420  dataset/ocular/1/1265_right.jpg               NaN      1  1265_right.jpg\n",
       "3421   dataset/ocular/1/1965_left.jpg               NaN      1   1965_left.jpg\n",
       "3422  dataset/ocular/1/1503_right.jpg               NaN      1  1503_right.jpg\n",
       "3423   dataset/ocular/1/1255_left.jpg               NaN      1   1255_left.jpg\n",
       "\n",
       "[3424 rows x 4 columns]"
      ]
     },
     "execution_count": 8,
     "metadata": {},
     "output_type": "execute_result"
    }
   ],
   "source": [
    "df"
   ]
  },
  {
   "cell_type": "code",
   "execution_count": 20,
   "metadata": {},
   "outputs": [],
   "source": [
    "def get_disk(row):\n",
    "  try:\n",
    "    image = row.path\n",
    "    folder = row.folder\n",
    "    file = row.file\n",
    "    image = cv2.imread(image)\n",
    "    \n",
    "    width = 512\n",
    "    dim = (width, width)\n",
    "    image = cv2.resize(image, dim, interpolation = cv2.INTER_AREA)\n",
    "    crop = 100\n",
    "    image = image[100:width-100, 100:width-100]\n",
    "    \n",
    "    \n",
    "    gray = cv2.cvtColor(image, cv2.COLOR_BGR2GRAY)\n",
    "    blur = cv2.bilateralFilter(gray,9,75,75)\n",
    "    median=cv2.medianBlur(blur, 5)\n",
    "\n",
    "    # threshold the image to reveal light regions in the\n",
    "    # blurred image\n",
    "    thresh = cv2.threshold(median, 155, 255, cv2.THRESH_BINARY)[1]\n",
    "    # perform a series of erosions and dilations to remove\n",
    "    # any small blobs of noise from the thresholded image\n",
    "    thresh = cv2.erode(thresh, None, iterations=2)\n",
    "    thresh = cv2.dilate(thresh, None, iterations=4)\n",
    "\n",
    "    # perform a connected component analysis on the thresholded\n",
    "    # image, then initialize a mask to store only the \"large\"\n",
    "    # components\n",
    "    labels = measure.label(thresh, connectivity=2, background=0)\n",
    "    mask = np.zeros(thresh.shape, dtype=\"uint8\")\n",
    "\n",
    "    # loop over the unique components\n",
    "    for label in np.unique(labels):\n",
    "      # if this is the background label, ignore it\n",
    "      if label == 0:\n",
    "        continue\n",
    "\n",
    "      # otherwise, construct the label mask and count the\n",
    "      # number of pixels \n",
    "      labelMask = np.zeros(thresh.shape, dtype=\"uint8\")\n",
    "      labelMask[labels == label] = 255\n",
    "      numPixels = cv2.countNonZero(labelMask)\n",
    "\n",
    "      # if the number of pixels in the component is sufficiently\n",
    "      # large, then add it to our mask of \"large blobs\"\n",
    "      if numPixels >300:\n",
    "        mask = cv2.add(mask, labelMask)\n",
    "\n",
    "    # find the contours in the mask, then sort them from left to\n",
    "    # right\n",
    "    cnts = cv2.findContours(mask.copy(), cv2.RETR_EXTERNAL,\n",
    "      cv2.CHAIN_APPROX_SIMPLE)\n",
    "    cnts = imutils.grab_contours(cnts)\n",
    "    cnts = contours.sort_contours(cnts)[0]\n",
    "    # print (cnts)\n",
    "    # loop over the contours\n",
    "    for (i, c) in enumerate(cnts):\n",
    "        ellipse = cv2.fitEllipse(c)\n",
    "        (x, y, w, h) = cv2.boundingRect(c)\n",
    "        break\n",
    "      # draw the bright spot on the image\n",
    "    color_coverted = cv2.cvtColor(image, cv2.COLOR_BGR2RGB)\n",
    "    pil_image=Image.fromarray(color_coverted)\n",
    "    pil_image.save(\"disk_dataset_ocular/\"+str(folder)+\"/\"+file)\n",
    "  except:\n",
    "    print (row.file)"
   ]
  },
  {
   "cell_type": "code",
   "execution_count": 21,
   "metadata": {},
   "outputs": [
    {
     "data": {
      "text/html": [
       "<div>\n",
       "<style scoped>\n",
       "    .dataframe tbody tr th:only-of-type {\n",
       "        vertical-align: middle;\n",
       "    }\n",
       "\n",
       "    .dataframe tbody tr th {\n",
       "        vertical-align: top;\n",
       "    }\n",
       "\n",
       "    .dataframe thead th {\n",
       "        text-align: right;\n",
       "    }\n",
       "</style>\n",
       "<table border=\"1\" class=\"dataframe\">\n",
       "  <thead>\n",
       "    <tr style=\"text-align: right;\">\n",
       "      <th></th>\n",
       "      <th>path</th>\n",
       "      <th>raises_exception</th>\n",
       "      <th>folder</th>\n",
       "      <th>file</th>\n",
       "    </tr>\n",
       "  </thead>\n",
       "  <tbody>\n",
       "    <tr>\n",
       "      <th>0</th>\n",
       "      <td>../dataset_generation/kaggle_dataset/0/189.jpg</td>\n",
       "      <td>True</td>\n",
       "      <td>0</td>\n",
       "      <td>189.jpg</td>\n",
       "    </tr>\n",
       "    <tr>\n",
       "      <th>1</th>\n",
       "      <td>../dataset_generation/kaggle_dataset/0/162.jpg</td>\n",
       "      <td>True</td>\n",
       "      <td>0</td>\n",
       "      <td>162.jpg</td>\n",
       "    </tr>\n",
       "    <tr>\n",
       "      <th>2</th>\n",
       "      <td>../dataset_generation/kaggle_dataset/0/176.jpg</td>\n",
       "      <td>True</td>\n",
       "      <td>0</td>\n",
       "      <td>176.jpg</td>\n",
       "    </tr>\n",
       "    <tr>\n",
       "      <th>3</th>\n",
       "      <td>../dataset_generation/kaggle_dataset/0/610.jpg</td>\n",
       "      <td>True</td>\n",
       "      <td>0</td>\n",
       "      <td>610.jpg</td>\n",
       "    </tr>\n",
       "    <tr>\n",
       "      <th>4</th>\n",
       "      <td>../dataset_generation/kaggle_dataset/0/360.jpg</td>\n",
       "      <td>True</td>\n",
       "      <td>0</td>\n",
       "      <td>360.jpg</td>\n",
       "    </tr>\n",
       "  </tbody>\n",
       "</table>\n",
       "</div>"
      ],
      "text/plain": [
       "                                             path  raises_exception folder  \\\n",
       "0  ../dataset_generation/kaggle_dataset/0/189.jpg              True      0   \n",
       "1  ../dataset_generation/kaggle_dataset/0/162.jpg              True      0   \n",
       "2  ../dataset_generation/kaggle_dataset/0/176.jpg              True      0   \n",
       "3  ../dataset_generation/kaggle_dataset/0/610.jpg              True      0   \n",
       "4  ../dataset_generation/kaggle_dataset/0/360.jpg              True      0   \n",
       "\n",
       "      file  \n",
       "0  189.jpg  \n",
       "1  162.jpg  \n",
       "2  176.jpg  \n",
       "3  610.jpg  \n",
       "4  360.jpg  "
      ]
     },
     "execution_count": 21,
     "metadata": {},
     "output_type": "execute_result"
    }
   ],
   "source": [
    "df.head()"
   ]
  },
  {
   "cell_type": "code",
   "execution_count": 22,
   "metadata": {},
   "outputs": [
    {
     "name": "stdout",
     "output_type": "stream",
     "text": [
      "\u001b[2m\u001b[36m(pid=11776)\u001b[0m 233.jpg\n"
     ]
    },
    {
     "data": {
      "text/plain": [
       "0      None\n",
       "1      None\n",
       "2      None\n",
       "3      None\n",
       "4      None\n",
       "       ... \n",
       "645    None\n",
       "646    None\n",
       "647    None\n",
       "648    None\n",
       "649    None\n",
       "Length: 650, dtype: object"
      ]
     },
     "execution_count": 22,
     "metadata": {},
     "output_type": "execute_result"
    }
   ],
   "source": [
    "df.swifter.progress_bar(True).apply(get_disk, axis=1)"
   ]
  },
  {
   "cell_type": "code",
   "execution_count": null,
   "metadata": {},
   "outputs": [],
   "source": []
  },
  {
   "cell_type": "code",
   "execution_count": null,
   "metadata": {},
   "outputs": [],
   "source": []
  }
 ],
 "metadata": {
  "kernelspec": {
   "display_name": "Python 3",
   "language": "python",
   "name": "python3"
  },
  "language_info": {
   "codemirror_mode": {
    "name": "ipython",
    "version": 3
   },
   "file_extension": ".py",
   "mimetype": "text/x-python",
   "name": "python",
   "nbconvert_exporter": "python",
   "pygments_lexer": "ipython3",
   "version": "3.8.5"
  }
 },
 "nbformat": 4,
 "nbformat_minor": 4
}
