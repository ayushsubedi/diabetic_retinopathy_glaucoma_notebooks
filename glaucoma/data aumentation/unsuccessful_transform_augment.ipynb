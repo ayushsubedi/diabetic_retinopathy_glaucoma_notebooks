{
  "nbformat": 4,
  "nbformat_minor": 0,
  "metadata": {
    "colab": {
      "name": "Fundus EDA.ipynb",
      "provenance": [],
      "collapsed_sections": []
    },
    "kernelspec": {
      "name": "python3",
      "display_name": "Python 3"
    },
    "language_info": {
      "name": "python"
    },
    "widgets": {
      "application/vnd.jupyter.widget-state+json": {
        "d467ae125f9840efb64cee537ae0993f": {
          "model_module": "@jupyter-widgets/controls",
          "model_name": "HBoxModel",
          "state": {
            "_view_name": "HBoxView",
            "_dom_classes": [],
            "_model_name": "HBoxModel",
            "_view_module": "@jupyter-widgets/controls",
            "_model_module_version": "1.5.0",
            "_view_count": null,
            "_view_module_version": "1.5.0",
            "box_style": "",
            "layout": "IPY_MODEL_c9598a0b98394bc1b55c72e3882d8106",
            "_model_module": "@jupyter-widgets/controls",
            "children": [
              "IPY_MODEL_7ccab7b7e2af4dccb5e2151abaaa5d4f",
              "IPY_MODEL_bae6dca5d34249c497b2bf376dc5a0d6"
            ]
          }
        },
        "c9598a0b98394bc1b55c72e3882d8106": {
          "model_module": "@jupyter-widgets/base",
          "model_name": "LayoutModel",
          "state": {
            "_view_name": "LayoutView",
            "grid_template_rows": null,
            "right": null,
            "justify_content": null,
            "_view_module": "@jupyter-widgets/base",
            "overflow": null,
            "_model_module_version": "1.2.0",
            "_view_count": null,
            "flex_flow": null,
            "width": null,
            "min_width": null,
            "border": null,
            "align_items": null,
            "bottom": null,
            "_model_module": "@jupyter-widgets/base",
            "top": null,
            "grid_column": null,
            "overflow_y": null,
            "overflow_x": null,
            "grid_auto_flow": null,
            "grid_area": null,
            "grid_template_columns": null,
            "flex": null,
            "_model_name": "LayoutModel",
            "justify_items": null,
            "grid_row": null,
            "max_height": null,
            "align_content": null,
            "visibility": null,
            "align_self": null,
            "height": null,
            "min_height": null,
            "padding": null,
            "grid_auto_rows": null,
            "grid_gap": null,
            "max_width": null,
            "order": null,
            "_view_module_version": "1.2.0",
            "grid_template_areas": null,
            "object_position": null,
            "object_fit": null,
            "grid_auto_columns": null,
            "margin": null,
            "display": null,
            "left": null
          }
        },
        "7ccab7b7e2af4dccb5e2151abaaa5d4f": {
          "model_module": "@jupyter-widgets/controls",
          "model_name": "FloatProgressModel",
          "state": {
            "_view_name": "ProgressView",
            "style": "IPY_MODEL_ed9b1817e84b42d79b8cec4c6abf8a1c",
            "_dom_classes": [],
            "description": "100%",
            "_model_name": "FloatProgressModel",
            "bar_style": "success",
            "max": 3424,
            "_view_module": "@jupyter-widgets/controls",
            "_model_module_version": "1.5.0",
            "value": 3424,
            "_view_count": null,
            "_view_module_version": "1.5.0",
            "orientation": "horizontal",
            "min": 0,
            "description_tooltip": null,
            "_model_module": "@jupyter-widgets/controls",
            "layout": "IPY_MODEL_5950eb0bc4d4428d9e5e12b1fc8fa29a"
          }
        },
        "bae6dca5d34249c497b2bf376dc5a0d6": {
          "model_module": "@jupyter-widgets/controls",
          "model_name": "HTMLModel",
          "state": {
            "_view_name": "HTMLView",
            "style": "IPY_MODEL_35ad1f95eeea4300b685ab0242b946ea",
            "_dom_classes": [],
            "description": "",
            "_model_name": "HTMLModel",
            "placeholder": "​",
            "_view_module": "@jupyter-widgets/controls",
            "_model_module_version": "1.5.0",
            "value": " 3424/3424 [2:20:48&lt;00:00,  2.47s/it]",
            "_view_count": null,
            "_view_module_version": "1.5.0",
            "description_tooltip": null,
            "_model_module": "@jupyter-widgets/controls",
            "layout": "IPY_MODEL_b817f14b6efd47ec86f9b1519fc700a3"
          }
        },
        "ed9b1817e84b42d79b8cec4c6abf8a1c": {
          "model_module": "@jupyter-widgets/controls",
          "model_name": "ProgressStyleModel",
          "state": {
            "_view_name": "StyleView",
            "_model_name": "ProgressStyleModel",
            "description_width": "initial",
            "_view_module": "@jupyter-widgets/base",
            "_model_module_version": "1.5.0",
            "_view_count": null,
            "_view_module_version": "1.2.0",
            "bar_color": null,
            "_model_module": "@jupyter-widgets/controls"
          }
        },
        "5950eb0bc4d4428d9e5e12b1fc8fa29a": {
          "model_module": "@jupyter-widgets/base",
          "model_name": "LayoutModel",
          "state": {
            "_view_name": "LayoutView",
            "grid_template_rows": null,
            "right": null,
            "justify_content": null,
            "_view_module": "@jupyter-widgets/base",
            "overflow": null,
            "_model_module_version": "1.2.0",
            "_view_count": null,
            "flex_flow": null,
            "width": null,
            "min_width": null,
            "border": null,
            "align_items": null,
            "bottom": null,
            "_model_module": "@jupyter-widgets/base",
            "top": null,
            "grid_column": null,
            "overflow_y": null,
            "overflow_x": null,
            "grid_auto_flow": null,
            "grid_area": null,
            "grid_template_columns": null,
            "flex": null,
            "_model_name": "LayoutModel",
            "justify_items": null,
            "grid_row": null,
            "max_height": null,
            "align_content": null,
            "visibility": null,
            "align_self": null,
            "height": null,
            "min_height": null,
            "padding": null,
            "grid_auto_rows": null,
            "grid_gap": null,
            "max_width": null,
            "order": null,
            "_view_module_version": "1.2.0",
            "grid_template_areas": null,
            "object_position": null,
            "object_fit": null,
            "grid_auto_columns": null,
            "margin": null,
            "display": null,
            "left": null
          }
        },
        "35ad1f95eeea4300b685ab0242b946ea": {
          "model_module": "@jupyter-widgets/controls",
          "model_name": "DescriptionStyleModel",
          "state": {
            "_view_name": "StyleView",
            "_model_name": "DescriptionStyleModel",
            "description_width": "",
            "_view_module": "@jupyter-widgets/base",
            "_model_module_version": "1.5.0",
            "_view_count": null,
            "_view_module_version": "1.2.0",
            "_model_module": "@jupyter-widgets/controls"
          }
        },
        "b817f14b6efd47ec86f9b1519fc700a3": {
          "model_module": "@jupyter-widgets/base",
          "model_name": "LayoutModel",
          "state": {
            "_view_name": "LayoutView",
            "grid_template_rows": null,
            "right": null,
            "justify_content": null,
            "_view_module": "@jupyter-widgets/base",
            "overflow": null,
            "_model_module_version": "1.2.0",
            "_view_count": null,
            "flex_flow": null,
            "width": null,
            "min_width": null,
            "border": null,
            "align_items": null,
            "bottom": null,
            "_model_module": "@jupyter-widgets/base",
            "top": null,
            "grid_column": null,
            "overflow_y": null,
            "overflow_x": null,
            "grid_auto_flow": null,
            "grid_area": null,
            "grid_template_columns": null,
            "flex": null,
            "_model_name": "LayoutModel",
            "justify_items": null,
            "grid_row": null,
            "max_height": null,
            "align_content": null,
            "visibility": null,
            "align_self": null,
            "height": null,
            "min_height": null,
            "padding": null,
            "grid_auto_rows": null,
            "grid_gap": null,
            "max_width": null,
            "order": null,
            "_view_module_version": "1.2.0",
            "grid_template_areas": null,
            "object_position": null,
            "object_fit": null,
            "grid_auto_columns": null,
            "margin": null,
            "display": null,
            "left": null
          }
        },
        "894633a710584c3285cf1982adb27004": {
          "model_module": "@jupyter-widgets/controls",
          "model_name": "HBoxModel",
          "state": {
            "_view_name": "HBoxView",
            "_dom_classes": [],
            "_model_name": "HBoxModel",
            "_view_module": "@jupyter-widgets/controls",
            "_model_module_version": "1.5.0",
            "_view_count": null,
            "_view_module_version": "1.5.0",
            "box_style": "",
            "layout": "IPY_MODEL_c5741fd1cf8e4522bbb91c7c8bef73ca",
            "_model_module": "@jupyter-widgets/controls",
            "children": [
              "IPY_MODEL_4394a665db834975921d0db795d6c235",
              "IPY_MODEL_990c60858e834d9298fd810ce86a6b45"
            ]
          }
        },
        "c5741fd1cf8e4522bbb91c7c8bef73ca": {
          "model_module": "@jupyter-widgets/base",
          "model_name": "LayoutModel",
          "state": {
            "_view_name": "LayoutView",
            "grid_template_rows": null,
            "right": null,
            "justify_content": null,
            "_view_module": "@jupyter-widgets/base",
            "overflow": null,
            "_model_module_version": "1.2.0",
            "_view_count": null,
            "flex_flow": null,
            "width": null,
            "min_width": null,
            "border": null,
            "align_items": null,
            "bottom": null,
            "_model_module": "@jupyter-widgets/base",
            "top": null,
            "grid_column": null,
            "overflow_y": null,
            "overflow_x": null,
            "grid_auto_flow": null,
            "grid_area": null,
            "grid_template_columns": null,
            "flex": null,
            "_model_name": "LayoutModel",
            "justify_items": null,
            "grid_row": null,
            "max_height": null,
            "align_content": null,
            "visibility": null,
            "align_self": null,
            "height": null,
            "min_height": null,
            "padding": null,
            "grid_auto_rows": null,
            "grid_gap": null,
            "max_width": null,
            "order": null,
            "_view_module_version": "1.2.0",
            "grid_template_areas": null,
            "object_position": null,
            "object_fit": null,
            "grid_auto_columns": null,
            "margin": null,
            "display": null,
            "left": null
          }
        },
        "4394a665db834975921d0db795d6c235": {
          "model_module": "@jupyter-widgets/controls",
          "model_name": "FloatProgressModel",
          "state": {
            "_view_name": "ProgressView",
            "style": "IPY_MODEL_81e13c74da7a4159be269b5ca564ac89",
            "_dom_classes": [],
            "description": "100%",
            "_model_name": "FloatProgressModel",
            "bar_style": "success",
            "max": 3042,
            "_view_module": "@jupyter-widgets/controls",
            "_model_module_version": "1.5.0",
            "value": 3042,
            "_view_count": null,
            "_view_module_version": "1.5.0",
            "orientation": "horizontal",
            "min": 0,
            "description_tooltip": null,
            "_model_module": "@jupyter-widgets/controls",
            "layout": "IPY_MODEL_05b718c36a5e47dc9a8674872524f455"
          }
        },
        "990c60858e834d9298fd810ce86a6b45": {
          "model_module": "@jupyter-widgets/controls",
          "model_name": "HTMLModel",
          "state": {
            "_view_name": "HTMLView",
            "style": "IPY_MODEL_ac109773c8b34e92a0b8d143d2127cdc",
            "_dom_classes": [],
            "description": "",
            "_model_name": "HTMLModel",
            "placeholder": "​",
            "_view_module": "@jupyter-widgets/controls",
            "_model_module_version": "1.5.0",
            "value": " 3042/3042 [00:37&lt;00:00, 80.36it/s]",
            "_view_count": null,
            "_view_module_version": "1.5.0",
            "description_tooltip": null,
            "_model_module": "@jupyter-widgets/controls",
            "layout": "IPY_MODEL_c96bff15a422441587bab5febd6a463c"
          }
        },
        "81e13c74da7a4159be269b5ca564ac89": {
          "model_module": "@jupyter-widgets/controls",
          "model_name": "ProgressStyleModel",
          "state": {
            "_view_name": "StyleView",
            "_model_name": "ProgressStyleModel",
            "description_width": "initial",
            "_view_module": "@jupyter-widgets/base",
            "_model_module_version": "1.5.0",
            "_view_count": null,
            "_view_module_version": "1.2.0",
            "bar_color": null,
            "_model_module": "@jupyter-widgets/controls"
          }
        },
        "05b718c36a5e47dc9a8674872524f455": {
          "model_module": "@jupyter-widgets/base",
          "model_name": "LayoutModel",
          "state": {
            "_view_name": "LayoutView",
            "grid_template_rows": null,
            "right": null,
            "justify_content": null,
            "_view_module": "@jupyter-widgets/base",
            "overflow": null,
            "_model_module_version": "1.2.0",
            "_view_count": null,
            "flex_flow": null,
            "width": null,
            "min_width": null,
            "border": null,
            "align_items": null,
            "bottom": null,
            "_model_module": "@jupyter-widgets/base",
            "top": null,
            "grid_column": null,
            "overflow_y": null,
            "overflow_x": null,
            "grid_auto_flow": null,
            "grid_area": null,
            "grid_template_columns": null,
            "flex": null,
            "_model_name": "LayoutModel",
            "justify_items": null,
            "grid_row": null,
            "max_height": null,
            "align_content": null,
            "visibility": null,
            "align_self": null,
            "height": null,
            "min_height": null,
            "padding": null,
            "grid_auto_rows": null,
            "grid_gap": null,
            "max_width": null,
            "order": null,
            "_view_module_version": "1.2.0",
            "grid_template_areas": null,
            "object_position": null,
            "object_fit": null,
            "grid_auto_columns": null,
            "margin": null,
            "display": null,
            "left": null
          }
        },
        "ac109773c8b34e92a0b8d143d2127cdc": {
          "model_module": "@jupyter-widgets/controls",
          "model_name": "DescriptionStyleModel",
          "state": {
            "_view_name": "StyleView",
            "_model_name": "DescriptionStyleModel",
            "description_width": "",
            "_view_module": "@jupyter-widgets/base",
            "_model_module_version": "1.5.0",
            "_view_count": null,
            "_view_module_version": "1.2.0",
            "_model_module": "@jupyter-widgets/controls"
          }
        },
        "c96bff15a422441587bab5febd6a463c": {
          "model_module": "@jupyter-widgets/base",
          "model_name": "LayoutModel",
          "state": {
            "_view_name": "LayoutView",
            "grid_template_rows": null,
            "right": null,
            "justify_content": null,
            "_view_module": "@jupyter-widgets/base",
            "overflow": null,
            "_model_module_version": "1.2.0",
            "_view_count": null,
            "flex_flow": null,
            "width": null,
            "min_width": null,
            "border": null,
            "align_items": null,
            "bottom": null,
            "_model_module": "@jupyter-widgets/base",
            "top": null,
            "grid_column": null,
            "overflow_y": null,
            "overflow_x": null,
            "grid_auto_flow": null,
            "grid_area": null,
            "grid_template_columns": null,
            "flex": null,
            "_model_name": "LayoutModel",
            "justify_items": null,
            "grid_row": null,
            "max_height": null,
            "align_content": null,
            "visibility": null,
            "align_self": null,
            "height": null,
            "min_height": null,
            "padding": null,
            "grid_auto_rows": null,
            "grid_gap": null,
            "max_width": null,
            "order": null,
            "_view_module_version": "1.2.0",
            "grid_template_areas": null,
            "object_position": null,
            "object_fit": null,
            "grid_auto_columns": null,
            "margin": null,
            "display": null,
            "left": null
          }
        }
      }
    }
  },
  "cells": [
    {
      "cell_type": "code",
      "metadata": {
        "id": "cio3l4bjDKYY",
        "colab": {
          "base_uri": "https://localhost:8080/"
        },
        "outputId": "ba75c204-ef20-4a7c-dabf-d3440cc3613d"
      },
      "source": [
        "## convert to function\n",
        "from imutils import contours\n",
        "from skimage import measure\n",
        "import numpy as np\n",
        "import imutils\n",
        "import cv2\n",
        "from google.colab.patches import cv2_imshow\n",
        "import pandas as pd\n",
        "import glob\n",
        "from tqdm.auto import tqdm\n",
        "tqdm.pandas()\n",
        "import shutil"
      ],
      "execution_count": null,
      "outputs": [
        {
          "output_type": "stream",
          "text": [
            "/usr/local/lib/python3.7/dist-packages/tqdm/std.py:658: FutureWarning: The Panel class is removed from pandas. Accessing it from the top-level namespace will also be removed in the next version\n",
            "  from pandas import Panel\n"
          ],
          "name": "stderr"
        }
      ]
    },
    {
      "cell_type": "code",
      "metadata": {
        "id": "sxDIB7RE8RW8"
      },
      "source": [
        "\n",
        "def get_disk(image):\n",
        "  try:  \n",
        "    image = cv2.imread(image)\n",
        "    gray = cv2.cvtColor(image, cv2.COLOR_BGR2GRAY)\n",
        "    blur = cv2.bilateralFilter(gray,9,75,75)\n",
        "    median=cv2.medianBlur(blur, 5)\n",
        "\n",
        "    # threshold the image to reveal light regions in the\n",
        "    # blurred image\n",
        "    thresh = cv2.threshold(median, 155, 255, cv2.THRESH_BINARY)[1]\n",
        "    # perform a series of erosions and dilations to remove\n",
        "    # any small blobs of noise from the thresholded image\n",
        "    thresh = cv2.erode(thresh, None, iterations=2)\n",
        "    thresh = cv2.dilate(thresh, None, iterations=4)\n",
        "\n",
        "    # perform a connected component analysis on the thresholded\n",
        "    # image, then initialize a mask to store only the \"large\"\n",
        "    # components\n",
        "    labels = measure.label(thresh, connectivity=2, background=0)\n",
        "    mask = np.zeros(thresh.shape, dtype=\"uint8\")\n",
        "\n",
        "    # loop over the unique components\n",
        "    for label in np.unique(labels):\n",
        "      # if this is the background label, ignore it\n",
        "      if label == 0:\n",
        "        continue\n",
        "\n",
        "      # otherwise, construct the label mask and count the\n",
        "      # number of pixels \n",
        "      labelMask = np.zeros(thresh.shape, dtype=\"uint8\")\n",
        "      labelMask[labels == label] = 255\n",
        "      numPixels = cv2.countNonZero(labelMask)\n",
        "\n",
        "      # if the number of pixels in the component is sufficiently\n",
        "      # large, then add it to our mask of \"large blobs\"\n",
        "      if numPixels >500:\n",
        "        mask = cv2.add(mask, labelMask)\n",
        "\n",
        "    # find the contours in the mask, then sort them from left to\n",
        "    # right\n",
        "    cnts = cv2.findContours(mask.copy(), cv2.RETR_EXTERNAL,\n",
        "      cv2.CHAIN_APPROX_SIMPLE)\n",
        "    cnts = imutils.grab_contours(cnts)\n",
        "    cnts = contours.sort_contours(cnts)[0]\n",
        "    # print (cnts)\n",
        "    # loop over the contours\n",
        "    for (i, c) in enumerate(cnts):\n",
        "        ellipse = cv2.fitEllipse(c)\n",
        "        (x, y, w, h) = cv2.boundingRect(c)\n",
        "        break\n",
        "      # draw the bright spot on the image\n",
        "\n",
        "    padding = 100\n",
        "    image = image[y-padding:y+h+padding, x-padding:x+w+padding]\n",
        "    return True\n",
        "  except:\n",
        "    return False"
      ],
      "execution_count": null,
      "outputs": []
    },
    {
      "cell_type": "code",
      "metadata": {
        "id": "PqV-rLND8_hk"
      },
      "source": [
        "df = pd.DataFrame(columns=[\"path\", \"raises_exception\"])"
      ],
      "execution_count": null,
      "outputs": []
    },
    {
      "cell_type": "code",
      "metadata": {
        "id": "AH0g0wlbMk6A"
      },
      "source": [
        "path_list = (glob.glob(\"/content/drive/MyDrive/ocular/0/*.*\")) + (glob.glob(\"/content/drive/MyDrive/ocular/1/*.*\"))"
      ],
      "execution_count": null,
      "outputs": []
    },
    {
      "cell_type": "code",
      "metadata": {
        "id": "df3zWhFxNMik"
      },
      "source": [
        "df['path'] = path_list"
      ],
      "execution_count": null,
      "outputs": []
    },
    {
      "cell_type": "code",
      "metadata": {
        "colab": {
          "base_uri": "https://localhost:8080/",
          "height": 66,
          "referenced_widgets": [
            "d467ae125f9840efb64cee537ae0993f",
            "c9598a0b98394bc1b55c72e3882d8106",
            "7ccab7b7e2af4dccb5e2151abaaa5d4f",
            "bae6dca5d34249c497b2bf376dc5a0d6",
            "ed9b1817e84b42d79b8cec4c6abf8a1c",
            "5950eb0bc4d4428d9e5e12b1fc8fa29a",
            "35ad1f95eeea4300b685ab0242b946ea",
            "b817f14b6efd47ec86f9b1519fc700a3"
          ]
        },
        "id": "psO27_knNa6Z",
        "outputId": "0106ea52-ac8c-4409-d815-3f28801f645d"
      },
      "source": [
        "df['raises_exception'] = df.path.progress_apply(get_disk)"
      ],
      "execution_count": null,
      "outputs": [
        {
          "output_type": "display_data",
          "data": {
            "application/vnd.jupyter.widget-view+json": {
              "model_id": "d467ae125f9840efb64cee537ae0993f",
              "version_minor": 0,
              "version_major": 2
            },
            "text/plain": [
              "HBox(children=(FloatProgress(value=0.0, max=3424.0), HTML(value='')))"
            ]
          },
          "metadata": {
            "tags": []
          }
        },
        {
          "output_type": "stream",
          "text": [
            "\n"
          ],
          "name": "stdout"
        }
      ]
    },
    {
      "cell_type": "code",
      "metadata": {
        "id": "dMHw1X2iNmq1"
      },
      "source": [
        "df.to_csv('exceptions.csv', index=False)"
      ],
      "execution_count": null,
      "outputs": []
    },
    {
      "cell_type": "code",
      "metadata": {
        "colab": {
          "base_uri": "https://localhost:8080/",
          "height": 406
        },
        "id": "fiTeGYxUZ6Bp",
        "outputId": "0e37e2b6-ae17-4658-cdaa-a78bb1f42181"
      },
      "source": [
        "df"
      ],
      "execution_count": null,
      "outputs": [
        {
          "output_type": "execute_result",
          "data": {
            "text/html": [
              "<div>\n",
              "<style scoped>\n",
              "    .dataframe tbody tr th:only-of-type {\n",
              "        vertical-align: middle;\n",
              "    }\n",
              "\n",
              "    .dataframe tbody tr th {\n",
              "        vertical-align: top;\n",
              "    }\n",
              "\n",
              "    .dataframe thead th {\n",
              "        text-align: right;\n",
              "    }\n",
              "</style>\n",
              "<table border=\"1\" class=\"dataframe\">\n",
              "  <thead>\n",
              "    <tr style=\"text-align: right;\">\n",
              "      <th></th>\n",
              "      <th>path</th>\n",
              "      <th>raises_exception</th>\n",
              "    </tr>\n",
              "  </thead>\n",
              "  <tbody>\n",
              "    <tr>\n",
              "      <th>0</th>\n",
              "      <td>/content/drive/MyDrive/ocular/0/2569_left.jpg</td>\n",
              "      <td>True</td>\n",
              "    </tr>\n",
              "    <tr>\n",
              "      <th>1</th>\n",
              "      <td>/content/drive/MyDrive/ocular/0/2570_left.jpg</td>\n",
              "      <td>True</td>\n",
              "    </tr>\n",
              "    <tr>\n",
              "      <th>2</th>\n",
              "      <td>/content/drive/MyDrive/ocular/0/2571_left.jpg</td>\n",
              "      <td>False</td>\n",
              "    </tr>\n",
              "    <tr>\n",
              "      <th>3</th>\n",
              "      <td>/content/drive/MyDrive/ocular/0/2572_left.jpg</td>\n",
              "      <td>True</td>\n",
              "    </tr>\n",
              "    <tr>\n",
              "      <th>4</th>\n",
              "      <td>/content/drive/MyDrive/ocular/0/2573_left.jpg</td>\n",
              "      <td>True</td>\n",
              "    </tr>\n",
              "    <tr>\n",
              "      <th>...</th>\n",
              "      <td>...</td>\n",
              "      <td>...</td>\n",
              "    </tr>\n",
              "    <tr>\n",
              "      <th>3419</th>\n",
              "      <td>/content/drive/MyDrive/ocular/1/2020_left.jpg</td>\n",
              "      <td>True</td>\n",
              "    </tr>\n",
              "    <tr>\n",
              "      <th>3420</th>\n",
              "      <td>/content/drive/MyDrive/ocular/1/2030_left.jpg</td>\n",
              "      <td>True</td>\n",
              "    </tr>\n",
              "    <tr>\n",
              "      <th>3421</th>\n",
              "      <td>/content/drive/MyDrive/ocular/1/2041_left.jpg</td>\n",
              "      <td>True</td>\n",
              "    </tr>\n",
              "    <tr>\n",
              "      <th>3422</th>\n",
              "      <td>/content/drive/MyDrive/ocular/1/2063_left.jpg</td>\n",
              "      <td>False</td>\n",
              "    </tr>\n",
              "    <tr>\n",
              "      <th>3423</th>\n",
              "      <td>/content/drive/MyDrive/ocular/1/2074_left.jpg</td>\n",
              "      <td>True</td>\n",
              "    </tr>\n",
              "  </tbody>\n",
              "</table>\n",
              "<p>3424 rows × 2 columns</p>\n",
              "</div>"
            ],
            "text/plain": [
              "                                               path  raises_exception\n",
              "0     /content/drive/MyDrive/ocular/0/2569_left.jpg              True\n",
              "1     /content/drive/MyDrive/ocular/0/2570_left.jpg              True\n",
              "2     /content/drive/MyDrive/ocular/0/2571_left.jpg             False\n",
              "3     /content/drive/MyDrive/ocular/0/2572_left.jpg              True\n",
              "4     /content/drive/MyDrive/ocular/0/2573_left.jpg              True\n",
              "...                                             ...               ...\n",
              "3419  /content/drive/MyDrive/ocular/1/2020_left.jpg              True\n",
              "3420  /content/drive/MyDrive/ocular/1/2030_left.jpg              True\n",
              "3421  /content/drive/MyDrive/ocular/1/2041_left.jpg              True\n",
              "3422  /content/drive/MyDrive/ocular/1/2063_left.jpg             False\n",
              "3423  /content/drive/MyDrive/ocular/1/2074_left.jpg              True\n",
              "\n",
              "[3424 rows x 2 columns]"
            ]
          },
          "metadata": {
            "tags": []
          },
          "execution_count": 9
        }
      ]
    },
    {
      "cell_type": "code",
      "metadata": {
        "id": "hc0xFQr0EwoQ"
      },
      "source": [
        "def move_files(from_):\n",
        "    to_ = \"/content/drive/MyDrive/ocular_clean/\" + '/'.join(from_.split('/')[-2:-1])\n",
        "    shutil.copy(from_, to_)"
      ],
      "execution_count": null,
      "outputs": []
    },
    {
      "cell_type": "code",
      "metadata": {
        "id": "qyEinrE_H_26"
      },
      "source": [
        "to_ = \"/content/drive/MyDrive/ocular_clean/\" + '/'.join(from_.split('/')[-2:-1])"
      ],
      "execution_count": null,
      "outputs": []
    },
    {
      "cell_type": "code",
      "metadata": {
        "colab": {
          "base_uri": "https://localhost:8080/",
          "height": 35
        },
        "id": "DMrtCK4yIC-f",
        "outputId": "f627fd6d-3a45-4d8e-b3d8-651548799ccd"
      },
      "source": [
        "to_"
      ],
      "execution_count": null,
      "outputs": [
        {
          "output_type": "execute_result",
          "data": {
            "application/vnd.google.colaboratory.intrinsic+json": {
              "type": "string"
            },
            "text/plain": [
              "'/content/gdrive/MyDrive/ocular_clean/0'"
            ]
          },
          "metadata": {
            "tags": []
          },
          "execution_count": 24
        }
      ]
    },
    {
      "cell_type": "code",
      "metadata": {
        "id": "_5-TKKOcGail"
      },
      "source": [
        "df_clean = df[df.raises_exception]"
      ],
      "execution_count": null,
      "outputs": []
    },
    {
      "cell_type": "code",
      "metadata": {
        "colab": {
          "base_uri": "https://localhost:8080/",
          "height": 280,
          "referenced_widgets": [
            "894633a710584c3285cf1982adb27004",
            "c5741fd1cf8e4522bbb91c7c8bef73ca",
            "4394a665db834975921d0db795d6c235",
            "990c60858e834d9298fd810ce86a6b45",
            "81e13c74da7a4159be269b5ca564ac89",
            "05b718c36a5e47dc9a8674872524f455",
            "ac109773c8b34e92a0b8d143d2127cdc",
            "c96bff15a422441587bab5febd6a463c"
          ]
        },
        "id": "vk1Zlvd3GbXg",
        "outputId": "6a3ac911-cdd7-4634-c333-42e3576ecdf0"
      },
      "source": [
        "df_clean.path.progress_apply(move_files)"
      ],
      "execution_count": null,
      "outputs": [
        {
          "output_type": "display_data",
          "data": {
            "application/vnd.jupyter.widget-view+json": {
              "model_id": "894633a710584c3285cf1982adb27004",
              "version_minor": 0,
              "version_major": 2
            },
            "text/plain": [
              "HBox(children=(FloatProgress(value=0.0, max=3042.0), HTML(value='')))"
            ]
          },
          "metadata": {
            "tags": []
          }
        },
        {
          "output_type": "stream",
          "text": [
            "\n"
          ],
          "name": "stdout"
        },
        {
          "output_type": "execute_result",
          "data": {
            "text/plain": [
              "0       None\n",
              "1       None\n",
              "3       None\n",
              "4       None\n",
              "5       None\n",
              "        ... \n",
              "3418    None\n",
              "3419    None\n",
              "3420    None\n",
              "3421    None\n",
              "3423    None\n",
              "Name: path, Length: 3042, dtype: object"
            ]
          },
          "metadata": {
            "tags": []
          },
          "execution_count": 29
        }
      ]
    },
    {
      "cell_type": "code",
      "metadata": {
        "colab": {
          "base_uri": "https://localhost:8080/",
          "height": 406
        },
        "id": "CU1_W05pI59N",
        "outputId": "20130662-d085-45a5-c449-0e5df03fe711"
      },
      "source": [
        "df_clean"
      ],
      "execution_count": null,
      "outputs": [
        {
          "output_type": "execute_result",
          "data": {
            "text/html": [
              "<div>\n",
              "<style scoped>\n",
              "    .dataframe tbody tr th:only-of-type {\n",
              "        vertical-align: middle;\n",
              "    }\n",
              "\n",
              "    .dataframe tbody tr th {\n",
              "        vertical-align: top;\n",
              "    }\n",
              "\n",
              "    .dataframe thead th {\n",
              "        text-align: right;\n",
              "    }\n",
              "</style>\n",
              "<table border=\"1\" class=\"dataframe\">\n",
              "  <thead>\n",
              "    <tr style=\"text-align: right;\">\n",
              "      <th></th>\n",
              "      <th>path</th>\n",
              "      <th>raises_exception</th>\n",
              "    </tr>\n",
              "  </thead>\n",
              "  <tbody>\n",
              "    <tr>\n",
              "      <th>0</th>\n",
              "      <td>/content/drive/MyDrive/ocular/0/2569_left.jpg</td>\n",
              "      <td>True</td>\n",
              "    </tr>\n",
              "    <tr>\n",
              "      <th>1</th>\n",
              "      <td>/content/drive/MyDrive/ocular/0/2570_left.jpg</td>\n",
              "      <td>True</td>\n",
              "    </tr>\n",
              "    <tr>\n",
              "      <th>3</th>\n",
              "      <td>/content/drive/MyDrive/ocular/0/2572_left.jpg</td>\n",
              "      <td>True</td>\n",
              "    </tr>\n",
              "    <tr>\n",
              "      <th>4</th>\n",
              "      <td>/content/drive/MyDrive/ocular/0/2573_left.jpg</td>\n",
              "      <td>True</td>\n",
              "    </tr>\n",
              "    <tr>\n",
              "      <th>5</th>\n",
              "      <td>/content/drive/MyDrive/ocular/0/2574_left.jpg</td>\n",
              "      <td>True</td>\n",
              "    </tr>\n",
              "    <tr>\n",
              "      <th>...</th>\n",
              "      <td>...</td>\n",
              "      <td>...</td>\n",
              "    </tr>\n",
              "    <tr>\n",
              "      <th>3418</th>\n",
              "      <td>/content/drive/MyDrive/ocular/1/2010_left.jpg</td>\n",
              "      <td>True</td>\n",
              "    </tr>\n",
              "    <tr>\n",
              "      <th>3419</th>\n",
              "      <td>/content/drive/MyDrive/ocular/1/2020_left.jpg</td>\n",
              "      <td>True</td>\n",
              "    </tr>\n",
              "    <tr>\n",
              "      <th>3420</th>\n",
              "      <td>/content/drive/MyDrive/ocular/1/2030_left.jpg</td>\n",
              "      <td>True</td>\n",
              "    </tr>\n",
              "    <tr>\n",
              "      <th>3421</th>\n",
              "      <td>/content/drive/MyDrive/ocular/1/2041_left.jpg</td>\n",
              "      <td>True</td>\n",
              "    </tr>\n",
              "    <tr>\n",
              "      <th>3423</th>\n",
              "      <td>/content/drive/MyDrive/ocular/1/2074_left.jpg</td>\n",
              "      <td>True</td>\n",
              "    </tr>\n",
              "  </tbody>\n",
              "</table>\n",
              "<p>3042 rows × 2 columns</p>\n",
              "</div>"
            ],
            "text/plain": [
              "                                               path  raises_exception\n",
              "0     /content/drive/MyDrive/ocular/0/2569_left.jpg              True\n",
              "1     /content/drive/MyDrive/ocular/0/2570_left.jpg              True\n",
              "3     /content/drive/MyDrive/ocular/0/2572_left.jpg              True\n",
              "4     /content/drive/MyDrive/ocular/0/2573_left.jpg              True\n",
              "5     /content/drive/MyDrive/ocular/0/2574_left.jpg              True\n",
              "...                                             ...               ...\n",
              "3418  /content/drive/MyDrive/ocular/1/2010_left.jpg              True\n",
              "3419  /content/drive/MyDrive/ocular/1/2020_left.jpg              True\n",
              "3420  /content/drive/MyDrive/ocular/1/2030_left.jpg              True\n",
              "3421  /content/drive/MyDrive/ocular/1/2041_left.jpg              True\n",
              "3423  /content/drive/MyDrive/ocular/1/2074_left.jpg              True\n",
              "\n",
              "[3042 rows x 2 columns]"
            ]
          },
          "metadata": {
            "tags": []
          },
          "execution_count": 30
        }
      ]
    },
    {
      "cell_type": "code",
      "metadata": {
        "colab": {
          "base_uri": "https://localhost:8080/"
        },
        "id": "LGzpXx89I7Ui",
        "outputId": "4c4e111c-42c9-4ddf-9453-c7583f8657dd"
      },
      "source": [
        "len(glob.glob(\"/content/drive/MyDrive/ocular_clean/0/*.*\"))"
      ],
      "execution_count": null,
      "outputs": [
        {
          "output_type": "execute_result",
          "data": {
            "text/plain": [
              "2780"
            ]
          },
          "metadata": {
            "tags": []
          },
          "execution_count": 32
        }
      ]
    },
    {
      "cell_type": "code",
      "metadata": {
        "colab": {
          "base_uri": "https://localhost:8080/"
        },
        "id": "KL8CIN-pJEvn",
        "outputId": "57a36272-0879-4c31-f35a-99551a4e2d9a"
      },
      "source": [
        "len(glob.glob(\"/content/drive/MyDrive/ocular_clean/1/*.*\"))"
      ],
      "execution_count": null,
      "outputs": [
        {
          "output_type": "execute_result",
          "data": {
            "text/plain": [
              "262"
            ]
          },
          "metadata": {
            "tags": []
          },
          "execution_count": 33
        }
      ]
    },
    {
      "cell_type": "code",
      "metadata": {
        "id": "DGnyPfmQJLnN"
      },
      "source": [
        "def get_disk(image):\n",
        "    image = cv2.imread(image)\n",
        "    print (image)\n",
        "    gray = cv2.cvtColor(image, cv2.COLOR_BGR2GRAY)\n",
        "    blur = cv2.bilateralFilter(gray,9,75,75)\n",
        "    median=cv2.medianBlur(blur, 5)\n",
        "\n",
        "    # threshold the image to reveal light regions in the\n",
        "    # blurred image\n",
        "    thresh = cv2.threshold(median, 155, 255, cv2.THRESH_BINARY)[1]\n",
        "    # perform a series of erosions and dilations to remove\n",
        "    # any small blobs of noise from the thresholded image\n",
        "    thresh = cv2.erode(thresh, None, iterations=2)\n",
        "    thresh = cv2.dilate(thresh, None, iterations=4)\n",
        "\n",
        "    # perform a connected component analysis on the thresholded\n",
        "    # image, then initialize a mask to store only the \"large\"\n",
        "    # components\n",
        "    labels = measure.label(thresh, connectivity=2, background=0)\n",
        "    mask = np.zeros(thresh.shape, dtype=\"uint8\")\n",
        "\n",
        "    # loop over the unique components\n",
        "    for label in np.unique(labels):\n",
        "      # if this is the background label, ignore it\n",
        "      if label == 0:\n",
        "        continue\n",
        "\n",
        "      # otherwise, construct the label mask and count the\n",
        "      # number of pixels \n",
        "      labelMask = np.zeros(thresh.shape, dtype=\"uint8\")\n",
        "      labelMask[labels == label] = 255\n",
        "      numPixels = cv2.countNonZero(labelMask)\n",
        "\n",
        "      # if the number of pixels in the component is sufficiently\n",
        "      # large, then add it to our mask of \"large blobs\"\n",
        "      if numPixels >500:\n",
        "        mask = cv2.add(mask, labelMask)\n",
        "\n",
        "    # find the contours in the mask, then sort them from left to\n",
        "    # right\n",
        "    cnts = cv2.findContours(mask.copy(), cv2.RETR_EXTERNAL,\n",
        "      cv2.CHAIN_APPROX_SIMPLE)\n",
        "    cnts = imutils.grab_contours(cnts)\n",
        "    # print(contours.sort_contours(cnts))\n",
        "    cnts = contours.sort_contours(cnts)[0]\n",
        "    # print (cnts)\n",
        "    # loop over the contours\n",
        "    for (i, c) in enumerate(cnts):\n",
        "        ellipse = cv2.fitEllipse(c)\n",
        "        (x, y, w, h) = cv2.boundingRect(c)\n",
        "        break\n",
        "      # draw the bright spot on the image\n",
        "\n",
        "    padding = 100\n",
        "    image = image[y-padding:y+h+padding, x-padding:x+w+padding]\n",
        "    return image"
      ],
      "execution_count": null,
      "outputs": []
    },
    {
      "cell_type": "code",
      "metadata": {
        "colab": {
          "base_uri": "https://localhost:8080/"
        },
        "id": "IV6FcqD4dG5g",
        "outputId": "99809e20-d78c-4e50-d12e-490d6edf91ed"
      },
      "source": [
        "get_disk(\"/content/drive/MyDrive/ocular_clean/0/1005_right.jpg\")"
      ],
      "execution_count": null,
      "outputs": [
        {
          "output_type": "stream",
          "text": [
            "[[[0 0 0]\n",
            "  [0 0 0]\n",
            "  [0 0 0]\n",
            "  ...\n",
            "  [0 0 0]\n",
            "  [0 0 0]\n",
            "  [0 0 0]]\n",
            "\n",
            " [[0 0 0]\n",
            "  [0 0 0]\n",
            "  [0 0 0]\n",
            "  ...\n",
            "  [0 0 0]\n",
            "  [0 0 0]\n",
            "  [0 0 0]]\n",
            "\n",
            " [[0 0 0]\n",
            "  [0 0 0]\n",
            "  [0 0 0]\n",
            "  ...\n",
            "  [0 0 0]\n",
            "  [0 0 0]\n",
            "  [0 0 0]]\n",
            "\n",
            " ...\n",
            "\n",
            " [[0 0 0]\n",
            "  [0 0 0]\n",
            "  [0 0 0]\n",
            "  ...\n",
            "  [0 0 0]\n",
            "  [0 0 0]\n",
            "  [0 0 0]]\n",
            "\n",
            " [[0 0 0]\n",
            "  [0 0 0]\n",
            "  [0 0 0]\n",
            "  ...\n",
            "  [0 0 0]\n",
            "  [0 0 0]\n",
            "  [0 0 0]]\n",
            "\n",
            " [[0 0 0]\n",
            "  [0 0 0]\n",
            "  [0 0 0]\n",
            "  ...\n",
            "  [0 0 0]\n",
            "  [0 0 0]\n",
            "  [0 0 0]]]\n"
          ],
          "name": "stdout"
        },
        {
          "output_type": "execute_result",
          "data": {
            "text/plain": [
              "array([[[ 62, 130, 195],\n",
              "        [ 60, 131, 195],\n",
              "        [ 60, 131, 195],\n",
              "        ...,\n",
              "        [ 51, 110, 172],\n",
              "        [ 51, 110, 172],\n",
              "        [ 50, 111, 173]],\n",
              "\n",
              "       [[ 61, 129, 194],\n",
              "        [ 60, 131, 195],\n",
              "        [ 60, 131, 195],\n",
              "        ...,\n",
              "        [ 51, 110, 172],\n",
              "        [ 51, 110, 172],\n",
              "        [ 49, 110, 172]],\n",
              "\n",
              "       [[ 60, 128, 193],\n",
              "        [ 59, 130, 194],\n",
              "        [ 59, 130, 194],\n",
              "        ...,\n",
              "        [ 51, 110, 172],\n",
              "        [ 51, 110, 172],\n",
              "        [ 51, 110, 172]],\n",
              "\n",
              "       ...,\n",
              "\n",
              "       [[ 55, 126, 193],\n",
              "        [ 51, 127, 193],\n",
              "        [ 53, 127, 193],\n",
              "        ...,\n",
              "        [ 61, 115, 176],\n",
              "        [ 61, 115, 176],\n",
              "        [ 60, 114, 174]],\n",
              "\n",
              "       [[ 56, 126, 193],\n",
              "        [ 51, 127, 193],\n",
              "        [ 53, 127, 193],\n",
              "        ...,\n",
              "        [ 61, 115, 176],\n",
              "        [ 61, 115, 176],\n",
              "        [ 62, 116, 176]],\n",
              "\n",
              "       [[ 54, 124, 191],\n",
              "        [ 49, 125, 191],\n",
              "        [ 51, 125, 191],\n",
              "        ...,\n",
              "        [ 60, 114, 175],\n",
              "        [ 62, 116, 177],\n",
              "        [ 63, 117, 177]]], dtype=uint8)"
            ]
          },
          "metadata": {
            "tags": []
          },
          "execution_count": 10
        }
      ]
    },
    {
      "cell_type": "code",
      "metadata": {
        "id": "qkTHZjjndV16"
      },
      "source": [
        ""
      ],
      "execution_count": null,
      "outputs": []
    }
  ]
}