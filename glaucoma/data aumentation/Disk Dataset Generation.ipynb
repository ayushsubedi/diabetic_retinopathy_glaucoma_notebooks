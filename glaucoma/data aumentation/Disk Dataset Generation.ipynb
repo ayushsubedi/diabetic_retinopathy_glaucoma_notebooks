{
 "cells": [
  {
   "cell_type": "code",
   "execution_count": 5,
   "metadata": {},
   "outputs": [],
   "source": [
    "from imutils import contours\n",
    "from skimage import measure\n",
    "import numpy as np\n",
    "import imutils\n",
    "import cv2\n",
    "import pandas as pd\n",
    "import glob\n",
    "import swifter\n",
    "\n",
    "import seaborn as sns\n",
    "import matplotlib.pyplot as plt\n",
    "from PIL import Image"
   ]
  },
  {
   "cell_type": "code",
   "execution_count": 6,
   "metadata": {},
   "outputs": [],
   "source": [
    "df = pd.read_csv('exceptions.csv')"
   ]
  },
  {
   "cell_type": "code",
   "execution_count": 7,
   "metadata": {},
   "outputs": [],
   "source": [
    "df_clean = df[df.raises_exception] "
   ]
  },
  {
   "cell_type": "code",
   "execution_count": 8,
   "metadata": {},
   "outputs": [
    {
     "data": {
      "text/html": [
       "<div>\n",
       "<style scoped>\n",
       "    .dataframe tbody tr th:only-of-type {\n",
       "        vertical-align: middle;\n",
       "    }\n",
       "\n",
       "    .dataframe tbody tr th {\n",
       "        vertical-align: top;\n",
       "    }\n",
       "\n",
       "    .dataframe thead th {\n",
       "        text-align: right;\n",
       "    }\n",
       "</style>\n",
       "<table border=\"1\" class=\"dataframe\">\n",
       "  <thead>\n",
       "    <tr style=\"text-align: right;\">\n",
       "      <th></th>\n",
       "      <th>path</th>\n",
       "      <th>raises_exception</th>\n",
       "    </tr>\n",
       "  </thead>\n",
       "  <tbody>\n",
       "    <tr>\n",
       "      <th>0</th>\n",
       "      <td>dataset/ocular/0/2342_left.jpg</td>\n",
       "      <td>True</td>\n",
       "    </tr>\n",
       "    <tr>\n",
       "      <th>1</th>\n",
       "      <td>dataset/ocular/0/3407_right.jpg</td>\n",
       "      <td>True</td>\n",
       "    </tr>\n",
       "    <tr>\n",
       "      <th>2</th>\n",
       "      <td>dataset/ocular/0/2343_left.jpg</td>\n",
       "      <td>True</td>\n",
       "    </tr>\n",
       "    <tr>\n",
       "      <th>3</th>\n",
       "      <td>dataset/ocular/0/3294_right.jpg</td>\n",
       "      <td>True</td>\n",
       "    </tr>\n",
       "    <tr>\n",
       "      <th>4</th>\n",
       "      <td>dataset/ocular/0/940_right.jpg</td>\n",
       "      <td>True</td>\n",
       "    </tr>\n",
       "    <tr>\n",
       "      <th>...</th>\n",
       "      <td>...</td>\n",
       "      <td>...</td>\n",
       "    </tr>\n",
       "    <tr>\n",
       "      <th>3418</th>\n",
       "      <td>dataset/ocular/1/1386_left.jpg</td>\n",
       "      <td>True</td>\n",
       "    </tr>\n",
       "    <tr>\n",
       "      <th>3419</th>\n",
       "      <td>dataset/ocular/1/1964_left.jpg</td>\n",
       "      <td>True</td>\n",
       "    </tr>\n",
       "    <tr>\n",
       "      <th>3420</th>\n",
       "      <td>dataset/ocular/1/1265_right.jpg</td>\n",
       "      <td>True</td>\n",
       "    </tr>\n",
       "    <tr>\n",
       "      <th>3422</th>\n",
       "      <td>dataset/ocular/1/1503_right.jpg</td>\n",
       "      <td>True</td>\n",
       "    </tr>\n",
       "    <tr>\n",
       "      <th>3423</th>\n",
       "      <td>dataset/ocular/1/1255_left.jpg</td>\n",
       "      <td>True</td>\n",
       "    </tr>\n",
       "  </tbody>\n",
       "</table>\n",
       "<p>3043 rows × 2 columns</p>\n",
       "</div>"
      ],
      "text/plain": [
       "                                 path  raises_exception\n",
       "0      dataset/ocular/0/2342_left.jpg              True\n",
       "1     dataset/ocular/0/3407_right.jpg              True\n",
       "2      dataset/ocular/0/2343_left.jpg              True\n",
       "3     dataset/ocular/0/3294_right.jpg              True\n",
       "4      dataset/ocular/0/940_right.jpg              True\n",
       "...                               ...               ...\n",
       "3418   dataset/ocular/1/1386_left.jpg              True\n",
       "3419   dataset/ocular/1/1964_left.jpg              True\n",
       "3420  dataset/ocular/1/1265_right.jpg              True\n",
       "3422  dataset/ocular/1/1503_right.jpg              True\n",
       "3423   dataset/ocular/1/1255_left.jpg              True\n",
       "\n",
       "[3043 rows x 2 columns]"
      ]
     },
     "execution_count": 8,
     "metadata": {},
     "output_type": "execute_result"
    }
   ],
   "source": [
    "df_clean"
   ]
  },
  {
   "cell_type": "code",
   "execution_count": 43,
   "metadata": {},
   "outputs": [],
   "source": [
    "def get_folder(path):\n",
    "    return path.split('/')[2]\n",
    "\n",
    "def get_file(path):\n",
    "    return path.split('/')[-1]"
   ]
  },
  {
   "cell_type": "code",
   "execution_count": 10,
   "metadata": {},
   "outputs": [
    {
     "data": {
      "application/vnd.jupyter.widget-view+json": {
       "model_id": "d0d038385a3e4f5c919e83fff4297709",
       "version_major": 2,
       "version_minor": 0
      },
      "text/plain": [
       "HBox(children=(HTML(value='Pandas Apply'), FloatProgress(value=0.0, max=3043.0), HTML(value='')))"
      ]
     },
     "metadata": {},
     "output_type": "display_data"
    },
    {
     "name": "stdout",
     "output_type": "stream",
     "text": [
      "\n"
     ]
    },
    {
     "name": "stderr",
     "output_type": "stream",
     "text": [
      "SettingWithCopyWarning: \n",
      "A value is trying to be set on a copy of a slice from a DataFrame.\n",
      "Try using .loc[row_indexer,col_indexer] = value instead\n",
      "\n",
      "See the caveats in the documentation: https://pandas.pydata.org/pandas-docs/stable/user_guide/indexing.html#returning-a-view-versus-a-copy\n"
     ]
    }
   ],
   "source": [
    "df_clean['folder'] = df_clean.path.swifter.progress_bar(True).apply(get_folder)"
   ]
  },
  {
   "cell_type": "code",
   "execution_count": 44,
   "metadata": {},
   "outputs": [
    {
     "data": {
      "application/vnd.jupyter.widget-view+json": {
       "model_id": "0b372bc2c88a4a319c54bc04381d6f52",
       "version_major": 2,
       "version_minor": 0
      },
      "text/plain": [
       "HBox(children=(HTML(value='Pandas Apply'), FloatProgress(value=0.0, max=3043.0), HTML(value='')))"
      ]
     },
     "metadata": {},
     "output_type": "display_data"
    },
    {
     "name": "stdout",
     "output_type": "stream",
     "text": [
      "\n"
     ]
    },
    {
     "name": "stderr",
     "output_type": "stream",
     "text": [
      "SettingWithCopyWarning: \n",
      "A value is trying to be set on a copy of a slice from a DataFrame.\n",
      "Try using .loc[row_indexer,col_indexer] = value instead\n",
      "\n",
      "See the caveats in the documentation: https://pandas.pydata.org/pandas-docs/stable/user_guide/indexing.html#returning-a-view-versus-a-copy\n"
     ]
    }
   ],
   "source": [
    "df_clean['file'] = df_clean.path.swifter.progress_bar(True).apply(get_file)"
   ]
  },
  {
   "cell_type": "code",
   "execution_count": 45,
   "metadata": {},
   "outputs": [
    {
     "data": {
      "text/html": [
       "<div>\n",
       "<style scoped>\n",
       "    .dataframe tbody tr th:only-of-type {\n",
       "        vertical-align: middle;\n",
       "    }\n",
       "\n",
       "    .dataframe tbody tr th {\n",
       "        vertical-align: top;\n",
       "    }\n",
       "\n",
       "    .dataframe thead th {\n",
       "        text-align: right;\n",
       "    }\n",
       "</style>\n",
       "<table border=\"1\" class=\"dataframe\">\n",
       "  <thead>\n",
       "    <tr style=\"text-align: right;\">\n",
       "      <th></th>\n",
       "      <th>path</th>\n",
       "      <th>raises_exception</th>\n",
       "      <th>folder</th>\n",
       "      <th>file</th>\n",
       "    </tr>\n",
       "  </thead>\n",
       "  <tbody>\n",
       "    <tr>\n",
       "      <th>0</th>\n",
       "      <td>dataset/ocular/0/2342_left.jpg</td>\n",
       "      <td>True</td>\n",
       "      <td>0</td>\n",
       "      <td>2342_left.jpg</td>\n",
       "    </tr>\n",
       "    <tr>\n",
       "      <th>1</th>\n",
       "      <td>dataset/ocular/0/3407_right.jpg</td>\n",
       "      <td>True</td>\n",
       "      <td>0</td>\n",
       "      <td>3407_right.jpg</td>\n",
       "    </tr>\n",
       "    <tr>\n",
       "      <th>2</th>\n",
       "      <td>dataset/ocular/0/2343_left.jpg</td>\n",
       "      <td>True</td>\n",
       "      <td>0</td>\n",
       "      <td>2343_left.jpg</td>\n",
       "    </tr>\n",
       "    <tr>\n",
       "      <th>3</th>\n",
       "      <td>dataset/ocular/0/3294_right.jpg</td>\n",
       "      <td>True</td>\n",
       "      <td>0</td>\n",
       "      <td>3294_right.jpg</td>\n",
       "    </tr>\n",
       "    <tr>\n",
       "      <th>4</th>\n",
       "      <td>dataset/ocular/0/940_right.jpg</td>\n",
       "      <td>True</td>\n",
       "      <td>0</td>\n",
       "      <td>940_right.jpg</td>\n",
       "    </tr>\n",
       "    <tr>\n",
       "      <th>...</th>\n",
       "      <td>...</td>\n",
       "      <td>...</td>\n",
       "      <td>...</td>\n",
       "      <td>...</td>\n",
       "    </tr>\n",
       "    <tr>\n",
       "      <th>3418</th>\n",
       "      <td>dataset/ocular/1/1386_left.jpg</td>\n",
       "      <td>True</td>\n",
       "      <td>1</td>\n",
       "      <td>1386_left.jpg</td>\n",
       "    </tr>\n",
       "    <tr>\n",
       "      <th>3419</th>\n",
       "      <td>dataset/ocular/1/1964_left.jpg</td>\n",
       "      <td>True</td>\n",
       "      <td>1</td>\n",
       "      <td>1964_left.jpg</td>\n",
       "    </tr>\n",
       "    <tr>\n",
       "      <th>3420</th>\n",
       "      <td>dataset/ocular/1/1265_right.jpg</td>\n",
       "      <td>True</td>\n",
       "      <td>1</td>\n",
       "      <td>1265_right.jpg</td>\n",
       "    </tr>\n",
       "    <tr>\n",
       "      <th>3422</th>\n",
       "      <td>dataset/ocular/1/1503_right.jpg</td>\n",
       "      <td>True</td>\n",
       "      <td>1</td>\n",
       "      <td>1503_right.jpg</td>\n",
       "    </tr>\n",
       "    <tr>\n",
       "      <th>3423</th>\n",
       "      <td>dataset/ocular/1/1255_left.jpg</td>\n",
       "      <td>True</td>\n",
       "      <td>1</td>\n",
       "      <td>1255_left.jpg</td>\n",
       "    </tr>\n",
       "  </tbody>\n",
       "</table>\n",
       "<p>3043 rows × 4 columns</p>\n",
       "</div>"
      ],
      "text/plain": [
       "                                 path  raises_exception folder            file\n",
       "0      dataset/ocular/0/2342_left.jpg              True      0   2342_left.jpg\n",
       "1     dataset/ocular/0/3407_right.jpg              True      0  3407_right.jpg\n",
       "2      dataset/ocular/0/2343_left.jpg              True      0   2343_left.jpg\n",
       "3     dataset/ocular/0/3294_right.jpg              True      0  3294_right.jpg\n",
       "4      dataset/ocular/0/940_right.jpg              True      0   940_right.jpg\n",
       "...                               ...               ...    ...             ...\n",
       "3418   dataset/ocular/1/1386_left.jpg              True      1   1386_left.jpg\n",
       "3419   dataset/ocular/1/1964_left.jpg              True      1   1964_left.jpg\n",
       "3420  dataset/ocular/1/1265_right.jpg              True      1  1265_right.jpg\n",
       "3422  dataset/ocular/1/1503_right.jpg              True      1  1503_right.jpg\n",
       "3423   dataset/ocular/1/1255_left.jpg              True      1   1255_left.jpg\n",
       "\n",
       "[3043 rows x 4 columns]"
      ]
     },
     "execution_count": 45,
     "metadata": {},
     "output_type": "execute_result"
    }
   ],
   "source": [
    "df_clean"
   ]
  },
  {
   "cell_type": "code",
   "execution_count": 52,
   "metadata": {},
   "outputs": [],
   "source": [
    "def get_disk(row):\n",
    "  try:\n",
    "    image = row.path\n",
    "    folder = row.folder\n",
    "    file = row.file\n",
    "    image = cv2.imread(image)\n",
    "    gray = cv2.cvtColor(image, cv2.COLOR_BGR2GRAY)\n",
    "    blur = cv2.bilateralFilter(gray,9,75,75)\n",
    "    median=cv2.medianBlur(blur, 5)\n",
    "\n",
    "    # threshold the image to reveal light regions in the\n",
    "    # blurred image\n",
    "    thresh = cv2.threshold(median, 155, 255, cv2.THRESH_BINARY)[1]\n",
    "    # perform a series of erosions and dilations to remove\n",
    "    # any small blobs of noise from the thresholded image\n",
    "    thresh = cv2.erode(thresh, None, iterations=2)\n",
    "    thresh = cv2.dilate(thresh, None, iterations=4)\n",
    "\n",
    "    # perform a connected component analysis on the thresholded\n",
    "    # image, then initialize a mask to store only the \"large\"\n",
    "    # components\n",
    "    labels = measure.label(thresh, connectivity=2, background=0)\n",
    "    mask = np.zeros(thresh.shape, dtype=\"uint8\")\n",
    "\n",
    "    # loop over the unique components\n",
    "    for label in np.unique(labels):\n",
    "      # if this is the background label, ignore it\n",
    "      if label == 0:\n",
    "        continue\n",
    "\n",
    "      # otherwise, construct the label mask and count the\n",
    "      # number of pixels \n",
    "      labelMask = np.zeros(thresh.shape, dtype=\"uint8\")\n",
    "      labelMask[labels == label] = 255\n",
    "      numPixels = cv2.countNonZero(labelMask)\n",
    "\n",
    "      # if the number of pixels in the component is sufficiently\n",
    "      # large, then add it to our mask of \"large blobs\"\n",
    "      if numPixels >500:\n",
    "        mask = cv2.add(mask, labelMask)\n",
    "\n",
    "    # find the contours in the mask, then sort them from left to\n",
    "    # right\n",
    "    cnts = cv2.findContours(mask.copy(), cv2.RETR_EXTERNAL,\n",
    "      cv2.CHAIN_APPROX_SIMPLE)\n",
    "    cnts = imutils.grab_contours(cnts)\n",
    "    cnts = contours.sort_contours(cnts)[0]\n",
    "    # print (cnts)\n",
    "    # loop over the contours\n",
    "    for (i, c) in enumerate(cnts):\n",
    "        ellipse = cv2.fitEllipse(c)\n",
    "        (x, y, w, h) = cv2.boundingRect(c)\n",
    "        break\n",
    "      # draw the bright spot on the image\n",
    "\n",
    "    padding = 100\n",
    "    image = image[y-padding:y+h+padding, x-padding:x+w+padding]\n",
    "    color_coverted = cv2.cvtColor(image, cv2.COLOR_BGR2RGB)\n",
    "    pil_image=Image.fromarray(color_coverted)\n",
    "    pil_image.save(\"disk_dataset/\"+str(folder)+\"/\"+file)\n",
    "#     return image\n",
    "  except:\n",
    "    pass"
   ]
  },
  {
   "cell_type": "markdown",
   "metadata": {},
   "source": [
    "# No clue what is happening here"
   ]
  },
  {
   "cell_type": "code",
   "execution_count": 53,
   "metadata": {},
   "outputs": [
    {
     "data": {
      "text/plain": [
       "0       None\n",
       "1       None\n",
       "2       None\n",
       "3       None\n",
       "4       None\n",
       "        ... \n",
       "3418    None\n",
       "3419    None\n",
       "3420    None\n",
       "3422    None\n",
       "3423    None\n",
       "Length: 3043, dtype: object"
      ]
     },
     "execution_count": 53,
     "metadata": {},
     "output_type": "execute_result"
    }
   ],
   "source": [
    "df_clean.swifter.progress_bar(True).apply(get_disk, axis=1)"
   ]
  },
  {
   "cell_type": "code",
   "execution_count": 41,
   "metadata": {},
   "outputs": [
    {
     "data": {
      "text/plain": [
       "<matplotlib.image.AxesImage at 0x7facce23b2b0>"
      ]
     },
     "execution_count": 41,
     "metadata": {},
     "output_type": "execute_result"
    },
    {
     "data": {
      "image/png": "[encoded data removed]",
      "text/plain": [
       "<Figure size 432x288 with 1 Axes>"
      ]
     },
     "metadata": {
      "needs_background": "light"
     },
     "output_type": "display_data"
    }
   ],
   "source": [
    "plt.imshow(get_disk(\"dataset/ocular/0/2343_left.jpg\"))"
   ]
  },
  {
   "cell_type": "code",
   "execution_count": null,
   "metadata": {},
   "outputs": [],
   "source": [
    "df"
   ]
  }
 ],
 "metadata": {
  "kernelspec": {
   "display_name": "Python 3",
   "language": "python",
   "name": "python3"
  },
  "language_info": {
   "codemirror_mode": {
    "name": "ipython",
    "version": 3
   },
   "file_extension": ".py",
   "mimetype": "text/x-python",
   "name": "python",
   "nbconvert_exporter": "python",
   "pygments_lexer": "ipython3",
   "version": "3.8.5"
  }
 },
 "nbformat": 4,
 "nbformat_minor": 4
}
