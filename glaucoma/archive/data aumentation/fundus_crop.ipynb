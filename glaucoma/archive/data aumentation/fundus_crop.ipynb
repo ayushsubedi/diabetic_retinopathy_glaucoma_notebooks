{
  "nbformat": 4,
  "nbformat_minor": 0,
  "metadata": {
    "colab": {
      "name": "Fundus Crop.ipynb",
      "provenance": [],
      "collapsed_sections": []
    },
    "kernelspec": {
      "name": "python3",
      "display_name": "Python 3"
    },
    "language_info": {
      "name": "python"
    }
  },
  "cells": [
    {
      "cell_type": "code",
      "metadata": {
        "colab": {
          "base_uri": "https://localhost:8080/",
          "height": 170
        },
        "id": "PdCZwqKvEDgY",
        "outputId": "5cc0b27f-bb44-45ef-a706-93c6887d091a"
      },
      "source": [
        "from imutils import contours\n",
        "from skimage import measure\n",
        "import numpy as np\n",
        "import argparse\n",
        "import imutils\n",
        "import cv2\n",
        "from google.colab.patches import cv2_imshow\n",
        "\n",
        "# load the image, convert it to grayscale, and blur it\n",
        "image = cv2.imread(\"/content/drive/MyDrive/ocular/1/1020_left.jpg\")\n",
        "image = cv2.resize(image,(800,615))\n",
        "gray = cv2.cvtColor(image, cv2.COLOR_BGR2GRAY)\n",
        "blur = cv2.bilateralFilter(gray,9,75,75)\n",
        "median=cv2.medianBlur(blur,5)\n",
        "\n",
        "# threshold the image to reveal light regions in the\n",
        "# blurred image\n",
        "thresh = cv2.threshold(median, 155, 255, cv2.THRESH_BINARY)[1]\n",
        "# perform a series of erosions and dilations to remove\n",
        "# any small blobs of noise from the thresholded image\n",
        "thresh = cv2.erode(thresh, None, iterations=2)\n",
        "thresh = cv2.dilate(thresh, None, iterations=4)\n",
        "\n",
        "# perform a connected component analysis on the thresholded\n",
        "# image, then initialize a mask to store only the \"large\"\n",
        "# components\n",
        "labels = measure.label(thresh, neighbors=8, background=0)\n",
        "mask = np.zeros(thresh.shape, dtype=\"uint8\")\n",
        "\n",
        "# loop over the unique components\n",
        "for label in np.unique(labels):\n",
        "\t# if this is the background label, ignore it\n",
        "\tif label == 0:\n",
        "\t\tcontinue\n",
        "\n",
        "\t# otherwise, construct the label mask and count the\n",
        "\t# number of pixels \n",
        "\tlabelMask = np.zeros(thresh.shape, dtype=\"uint8\")\n",
        "\tlabelMask[labels == label] = 255\n",
        "\tnumPixels = cv2.countNonZero(labelMask)\n",
        "\n",
        "\t# if the number of pixels in the component is sufficiently\n",
        "\t# large, then add it to our mask of \"large blobs\"\n",
        "\tif numPixels >300:\n",
        "\t\tmask = cv2.add(mask, labelMask)\n",
        "\n",
        "# find the contours in the mask, then sort them from left to\n",
        "# right\n",
        "cnts = cv2.findContours(mask.copy(), cv2.RETR_EXTERNAL,\n",
        "\tcv2.CHAIN_APPROX_SIMPLE)\n",
        "cnts = imutils.grab_contours(cnts)\n",
        "cnts = contours.sort_contours(cnts)[0]\n",
        "# loop over the contours\n",
        "for (i, c) in enumerate(cnts):\n",
        "     ellipse = cv2.fitEllipse(c)\n",
        "     (x, y, w, h) = cv2.boundingRect(c)\n",
        "     break\n",
        "\t# draw the bright spot on the image\n",
        "cv2_imshow(image[y:y+h, x:x+w])\n",
        "cv2.waitKey(0)"
      ],
      "execution_count": 19,
      "outputs": [
        {
          "output_type": "stream",
          "text": [
            "/usr/local/lib/python3.7/dist-packages/ipykernel_launcher.py:31: UserWarning: The argument 'neighbors' is deprecated and will be removed in scikit-image 0.18, use 'connectivity' instead. For neighbors=8, use connectivity=2\n"
          ],
          "name": "stderr"
        },
        {
          "output_type": "display_data",
          "data": {
            "image/png": "[encoded data removed]",
            "text/plain": [
              "<PIL.Image.Image image mode=RGB size=86x98 at 0x7F508EE83ED0>"
            ]
          },
          "metadata": {
            "tags": []
          }
        },
        {
          "output_type": "execute_result",
          "data": {
            "text/plain": [
              "-1"
            ]
          },
          "metadata": {
            "tags": []
          },
          "execution_count": 19
        }
      ]
    },
    {
      "cell_type": "code",
      "metadata": {
        "id": "cio3l4bjDKYY"
      },
      "source": [
        ""
      ],
      "execution_count": null,
      "outputs": []
    }
  ]
}